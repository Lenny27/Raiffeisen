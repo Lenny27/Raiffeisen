{
 "cells": [
  {
   "cell_type": "code",
   "execution_count": 1,
   "metadata": {},
   "outputs": [
    {
     "data": {
      "application/vnd.jupyter.widget-view+json": {
       "model_id": "7b96adaafe54415ea6f9790a2cf79259",
       "version_major": 2,
       "version_minor": 0
      },
      "text/plain": [
       "A Jupyter Widget"
      ]
     },
     "metadata": {},
     "output_type": "display_data"
    },
    {
     "name": "stdout",
     "output_type": "stream",
     "text": [
      "\n"
     ]
    }
   ],
   "source": [
    "import numpy as np\n",
    "import pandas as pd\n",
    "import os\n",
    "from datetime import datetime\n",
    "from datetime import date\n",
    "\n",
    "from tqdm import tqdm_notebook\n",
    "from tqdm import tqdm\n",
    "tqdm_notebook().pandas()\n",
    "\n",
    "import matplotlib.pyplot as plt\n",
    "%matplotlib inline\n",
    "\n",
    "import warnings\n",
    "warnings.filterwarnings('ignore')"
   ]
  },
  {
   "cell_type": "markdown",
   "metadata": {},
   "source": [
    "# Raiffeisen Data Cup\n",
    "#### https://boosters.pro/champ_11\n",
    "\n",
    "Задача\n",
    "Клиенты Райффайзенбанка совершают покупки и снимают наличные в банкоматах с помощью карточек. Получив в виде обезличенных данных их историю транзакций, информацию о мерчантах (место, позволяющее принимать платежи с использованием банковской пластиковой карты), участники чемпионата должны предсказать две пары координат: дом и работу клиента. Оценкой качества решения в задаче является процент попаданий в окружность радиуса 0.02 градуса относительно реальных координат дома и работы.  \n",
    "\n",
    "В задаче предстоит предсказать две пары координат (_HOME_LAT_,_HOME_LON_,_WORK_LAT_,_WORK_LON_): работы и дома. Т.е если в тесте N клиентов, то нам необходимо попасть в 2N кругов радиуса 2N. Результат можно воспринимать как среднее accuracy по дому и работе.\n",
    "\n",
    "В качестве датасета участникам предоставлены истории транзакций клиентов «Райффайзенбанк».   "
   ]
  },
  {
   "cell_type": "markdown",
   "metadata": {},
   "source": [
    "# Данные "
   ]
  },
  {
   "cell_type": "code",
   "execution_count": 273,
   "metadata": {
    "collapsed": true
   },
   "outputs": [],
   "source": [
    "train = pd.read_csv('train_set.csv')\n",
    "test = pd.read_csv('test_set.csv')"
   ]
  },
  {
   "cell_type": "code",
   "execution_count": 271,
   "metadata": {},
   "outputs": [
    {
     "name": "stdout",
     "output_type": "stream",
     "text": [
      "train shape =  (1224734, 21)\n"
     ]
    },
    {
     "data": {
      "text/html": [
       "<div>\n",
       "<style>\n",
       "    .dataframe thead tr:only-child th {\n",
       "        text-align: right;\n",
       "    }\n",
       "\n",
       "    .dataframe thead th {\n",
       "        text-align: left;\n",
       "    }\n",
       "\n",
       "    .dataframe tbody tr th {\n",
       "        vertical-align: top;\n",
       "    }\n",
       "</style>\n",
       "<table border=\"1\" class=\"dataframe\">\n",
       "  <thead>\n",
       "    <tr style=\"text-align: right;\">\n",
       "      <th></th>\n",
       "      <th>amount</th>\n",
       "      <th>atm_address</th>\n",
       "      <th>atm_address_lat</th>\n",
       "      <th>atm_address_lon</th>\n",
       "      <th>city</th>\n",
       "      <th>country</th>\n",
       "      <th>currency</th>\n",
       "      <th>customer_id</th>\n",
       "      <th>home_add_lat</th>\n",
       "      <th>home_add_lon</th>\n",
       "      <th>...</th>\n",
       "      <th>pos_address</th>\n",
       "      <th>pos_address_lat</th>\n",
       "      <th>pos_address_lon</th>\n",
       "      <th>terminal_id</th>\n",
       "      <th>transaction_date</th>\n",
       "      <th>work_add_lat</th>\n",
       "      <th>work_add_lon</th>\n",
       "      <th>dow</th>\n",
       "      <th>hol</th>\n",
       "      <th>date_int</th>\n",
       "    </tr>\n",
       "  </thead>\n",
       "  <tbody>\n",
       "    <tr>\n",
       "      <th>0</th>\n",
       "      <td>2.884034</td>\n",
       "      <td>nan</td>\n",
       "      <td>NaN</td>\n",
       "      <td>NaN</td>\n",
       "      <td>st petersburg</td>\n",
       "      <td>RUS</td>\n",
       "      <td>643.0</td>\n",
       "      <td>0dc0137d280a2a82d2dc89282450ff1b</td>\n",
       "      <td>59.851</td>\n",
       "      <td>30.232</td>\n",
       "      <td>...</td>\n",
       "      <td>nan</td>\n",
       "      <td>59.844072</td>\n",
       "      <td>30.179153</td>\n",
       "      <td>11606fde0c814ce78e0d726e39a0a5ee</td>\n",
       "      <td>2017-07-15</td>\n",
       "      <td>59.847</td>\n",
       "      <td>30.177</td>\n",
       "      <td>5.0</td>\n",
       "      <td>1</td>\n",
       "      <td>195.0</td>\n",
       "    </tr>\n",
       "    <tr>\n",
       "      <th>1</th>\n",
       "      <td>2.775633</td>\n",
       "      <td>nan</td>\n",
       "      <td>NaN</td>\n",
       "      <td>NaN</td>\n",
       "      <td>st petersburg</td>\n",
       "      <td>RUS</td>\n",
       "      <td>643.0</td>\n",
       "      <td>0dc0137d280a2a82d2dc89282450ff1b</td>\n",
       "      <td>59.851</td>\n",
       "      <td>30.232</td>\n",
       "      <td>...</td>\n",
       "      <td>nan</td>\n",
       "      <td>59.844072</td>\n",
       "      <td>30.179153</td>\n",
       "      <td>e9647a5e1eacfb06713b6af755ccc595</td>\n",
       "      <td>2017-10-27</td>\n",
       "      <td>59.847</td>\n",
       "      <td>30.177</td>\n",
       "      <td>4.0</td>\n",
       "      <td>0</td>\n",
       "      <td>299.0</td>\n",
       "    </tr>\n",
       "    <tr>\n",
       "      <th>2</th>\n",
       "      <td>3.708368</td>\n",
       "      <td>nan</td>\n",
       "      <td>NaN</td>\n",
       "      <td>NaN</td>\n",
       "      <td>st petersburg</td>\n",
       "      <td>RUS</td>\n",
       "      <td>643.0</td>\n",
       "      <td>0dc0137d280a2a82d2dc89282450ff1b</td>\n",
       "      <td>59.851</td>\n",
       "      <td>30.232</td>\n",
       "      <td>...</td>\n",
       "      <td>pr.marshala zhukova,31st petersburg190000    7...</td>\n",
       "      <td>59.858198</td>\n",
       "      <td>30.229024</td>\n",
       "      <td>df06c1fcd3718a514535ae822785f716</td>\n",
       "      <td>2017-10-03</td>\n",
       "      <td>59.847</td>\n",
       "      <td>30.177</td>\n",
       "      <td>1.0</td>\n",
       "      <td>0</td>\n",
       "      <td>275.0</td>\n",
       "    </tr>\n",
       "    <tr>\n",
       "      <th>3</th>\n",
       "      <td>2.787498</td>\n",
       "      <td>nan</td>\n",
       "      <td>NaN</td>\n",
       "      <td>NaN</td>\n",
       "      <td>st petersburg</td>\n",
       "      <td>RUS</td>\n",
       "      <td>643.0</td>\n",
       "      <td>0dc0137d280a2a82d2dc89282450ff1b</td>\n",
       "      <td>59.851</td>\n",
       "      <td>30.232</td>\n",
       "      <td>...</td>\n",
       "      <td>nan</td>\n",
       "      <td>59.844072</td>\n",
       "      <td>30.179153</td>\n",
       "      <td>6c5e5793ebc984fb72875feffff62854</td>\n",
       "      <td>2017-09-09</td>\n",
       "      <td>59.847</td>\n",
       "      <td>30.177</td>\n",
       "      <td>5.0</td>\n",
       "      <td>1</td>\n",
       "      <td>251.0</td>\n",
       "    </tr>\n",
       "    <tr>\n",
       "      <th>4</th>\n",
       "      <td>2.892510</td>\n",
       "      <td>nan</td>\n",
       "      <td>NaN</td>\n",
       "      <td>NaN</td>\n",
       "      <td>st petersburg</td>\n",
       "      <td>RUS</td>\n",
       "      <td>643.0</td>\n",
       "      <td>0dc0137d280a2a82d2dc89282450ff1b</td>\n",
       "      <td>59.851</td>\n",
       "      <td>30.232</td>\n",
       "      <td>...</td>\n",
       "      <td>nan</td>\n",
       "      <td>59.844072</td>\n",
       "      <td>30.179153</td>\n",
       "      <td>0576445d74e374c92c0902e612fca356</td>\n",
       "      <td>2017-07-06</td>\n",
       "      <td>59.847</td>\n",
       "      <td>30.177</td>\n",
       "      <td>3.0</td>\n",
       "      <td>0</td>\n",
       "      <td>186.0</td>\n",
       "    </tr>\n",
       "  </tbody>\n",
       "</table>\n",
       "<p>5 rows × 21 columns</p>\n",
       "</div>"
      ],
      "text/plain": [
       "     amount atm_address  atm_address_lat  atm_address_lon           city  \\\n",
       "0  2.884034         nan              NaN              NaN  st petersburg   \n",
       "1  2.775633         nan              NaN              NaN  st petersburg   \n",
       "2  3.708368         nan              NaN              NaN  st petersburg   \n",
       "3  2.787498         nan              NaN              NaN  st petersburg   \n",
       "4  2.892510         nan              NaN              NaN  st petersburg   \n",
       "\n",
       "  country currency                       customer_id  home_add_lat  \\\n",
       "0     RUS    643.0  0dc0137d280a2a82d2dc89282450ff1b        59.851   \n",
       "1     RUS    643.0  0dc0137d280a2a82d2dc89282450ff1b        59.851   \n",
       "2     RUS    643.0  0dc0137d280a2a82d2dc89282450ff1b        59.851   \n",
       "3     RUS    643.0  0dc0137d280a2a82d2dc89282450ff1b        59.851   \n",
       "4     RUS    643.0  0dc0137d280a2a82d2dc89282450ff1b        59.851   \n",
       "\n",
       "   home_add_lon    ...                                           pos_address  \\\n",
       "0        30.232    ...                                                   nan   \n",
       "1        30.232    ...                                                   nan   \n",
       "2        30.232    ...     pr.marshala zhukova,31st petersburg190000    7...   \n",
       "3        30.232    ...                                                   nan   \n",
       "4        30.232    ...                                                   nan   \n",
       "\n",
       "  pos_address_lat  pos_address_lon                       terminal_id  \\\n",
       "0       59.844072        30.179153  11606fde0c814ce78e0d726e39a0a5ee   \n",
       "1       59.844072        30.179153  e9647a5e1eacfb06713b6af755ccc595   \n",
       "2       59.858198        30.229024  df06c1fcd3718a514535ae822785f716   \n",
       "3       59.844072        30.179153  6c5e5793ebc984fb72875feffff62854   \n",
       "4       59.844072        30.179153  0576445d74e374c92c0902e612fca356   \n",
       "\n",
       "  transaction_date work_add_lat  work_add_lon  dow  hol  date_int  \n",
       "0       2017-07-15       59.847        30.177  5.0    1     195.0  \n",
       "1       2017-10-27       59.847        30.177  4.0    0     299.0  \n",
       "2       2017-10-03       59.847        30.177  1.0    0     275.0  \n",
       "3       2017-09-09       59.847        30.177  5.0    1     251.0  \n",
       "4       2017-07-06       59.847        30.177  3.0    0     186.0  \n",
       "\n",
       "[5 rows x 21 columns]"
      ]
     },
     "execution_count": 271,
     "metadata": {},
     "output_type": "execute_result"
    }
   ],
   "source": [
    "print('train shape = ', train.shape)\n",
    "train.head(5)"
   ]
  },
  {
   "cell_type": "code",
   "execution_count": 272,
   "metadata": {},
   "outputs": [
    {
     "name": "stdout",
     "output_type": "stream",
     "text": [
      "test shape =  (1265470, 17)\n"
     ]
    },
    {
     "data": {
      "text/html": [
       "<div>\n",
       "<style>\n",
       "    .dataframe thead tr:only-child th {\n",
       "        text-align: right;\n",
       "    }\n",
       "\n",
       "    .dataframe thead th {\n",
       "        text-align: left;\n",
       "    }\n",
       "\n",
       "    .dataframe tbody tr th {\n",
       "        vertical-align: top;\n",
       "    }\n",
       "</style>\n",
       "<table border=\"1\" class=\"dataframe\">\n",
       "  <thead>\n",
       "    <tr style=\"text-align: right;\">\n",
       "      <th></th>\n",
       "      <th>amount</th>\n",
       "      <th>atm_address</th>\n",
       "      <th>atm_address_lat</th>\n",
       "      <th>atm_address_lon</th>\n",
       "      <th>city</th>\n",
       "      <th>country</th>\n",
       "      <th>currency</th>\n",
       "      <th>customer_id</th>\n",
       "      <th>mcc</th>\n",
       "      <th>pos_address</th>\n",
       "      <th>pos_address_lat</th>\n",
       "      <th>pos_address_lon</th>\n",
       "      <th>terminal_id</th>\n",
       "      <th>transaction_date</th>\n",
       "      <th>dow</th>\n",
       "      <th>hol</th>\n",
       "      <th>date_int</th>\n",
       "    </tr>\n",
       "  </thead>\n",
       "  <tbody>\n",
       "    <tr>\n",
       "      <th>0</th>\n",
       "      <td>2.211818</td>\n",
       "      <td>nan</td>\n",
       "      <td>NaN</td>\n",
       "      <td>NaN</td>\n",
       "      <td>ivanteevka</td>\n",
       "      <td>RUS</td>\n",
       "      <td>643.0</td>\n",
       "      <td>00fd410f5c580c8351cafa88d82b60f3</td>\n",
       "      <td>5411</td>\n",
       "      <td>2-1 tolmacheva strivanteevka141280    rusrus</td>\n",
       "      <td>55.967487</td>\n",
       "      <td>37.913682</td>\n",
       "      <td>ff0476dae4b098a7b16aabe93d4268df</td>\n",
       "      <td>2017-08-24</td>\n",
       "      <td>3.0</td>\n",
       "      <td>0</td>\n",
       "      <td>235.0</td>\n",
       "    </tr>\n",
       "    <tr>\n",
       "      <th>1</th>\n",
       "      <td>1.331379</td>\n",
       "      <td>nan</td>\n",
       "      <td>NaN</td>\n",
       "      <td>NaN</td>\n",
       "      <td>ivanteevka</td>\n",
       "      <td>RUS</td>\n",
       "      <td>643.0</td>\n",
       "      <td>00fd410f5c580c8351cafa88d82b60f3</td>\n",
       "      <td>4111</td>\n",
       "      <td>sovetskij, 32ivanteevka141282    rusrus</td>\n",
       "      <td>55.971296</td>\n",
       "      <td>37.905184</td>\n",
       "      <td>7cfd9a60282459d4692ecc85b856072e</td>\n",
       "      <td>2017-08-12</td>\n",
       "      <td>5.0</td>\n",
       "      <td>1</td>\n",
       "      <td>223.0</td>\n",
       "    </tr>\n",
       "    <tr>\n",
       "      <th>2</th>\n",
       "      <td>2.608004</td>\n",
       "      <td>nan</td>\n",
       "      <td>NaN</td>\n",
       "      <td>NaN</td>\n",
       "      <td>pushkino</td>\n",
       "      <td>RUS</td>\n",
       "      <td>643.0</td>\n",
       "      <td>00fd410f5c580c8351cafa88d82b60f3</td>\n",
       "      <td>5411</td>\n",
       "      <td>105,krasoarmeyskoe shpushkino141206    rusrus</td>\n",
       "      <td>56.016591</td>\n",
       "      <td>37.909098</td>\n",
       "      <td>7e5a532f0029861d8a9c4f0479b9450b</td>\n",
       "      <td>2017-06-17</td>\n",
       "      <td>5.0</td>\n",
       "      <td>1</td>\n",
       "      <td>167.0</td>\n",
       "    </tr>\n",
       "    <tr>\n",
       "      <th>3</th>\n",
       "      <td>1.916752</td>\n",
       "      <td>nan</td>\n",
       "      <td>NaN</td>\n",
       "      <td>NaN</td>\n",
       "      <td>ivanteevka</td>\n",
       "      <td>RUS</td>\n",
       "      <td>643.0</td>\n",
       "      <td>00fd410f5c580c8351cafa88d82b60f3</td>\n",
       "      <td>5411</td>\n",
       "      <td>g. ivanteevka, ul.tolmacheva, d.6ivanteevka141...</td>\n",
       "      <td>55.964507</td>\n",
       "      <td>37.937912</td>\n",
       "      <td>2afe7d1bc61b86c449f413bdf2119032</td>\n",
       "      <td>2017-08-12</td>\n",
       "      <td>5.0</td>\n",
       "      <td>1</td>\n",
       "      <td>223.0</td>\n",
       "    </tr>\n",
       "    <tr>\n",
       "      <th>4</th>\n",
       "      <td>1.981067</td>\n",
       "      <td>nan</td>\n",
       "      <td>NaN</td>\n",
       "      <td>NaN</td>\n",
       "      <td>moscow</td>\n",
       "      <td>RUS</td>\n",
       "      <td>643.0</td>\n",
       "      <td>00fd410f5c580c8351cafa88d82b60f3</td>\n",
       "      <td>5814</td>\n",
       "      <td>5 komsomolskaya sqmoscow101000    rusrus</td>\n",
       "      <td>55.776802</td>\n",
       "      <td>37.657352</td>\n",
       "      <td>ab4f00601ff1d949afc59ee3f804c79c</td>\n",
       "      <td>2017-04-26</td>\n",
       "      <td>2.0</td>\n",
       "      <td>0</td>\n",
       "      <td>115.0</td>\n",
       "    </tr>\n",
       "  </tbody>\n",
       "</table>\n",
       "</div>"
      ],
      "text/plain": [
       "     amount atm_address  atm_address_lat  atm_address_lon        city country  \\\n",
       "0  2.211818         nan              NaN              NaN  ivanteevka     RUS   \n",
       "1  1.331379         nan              NaN              NaN  ivanteevka     RUS   \n",
       "2  2.608004         nan              NaN              NaN    pushkino     RUS   \n",
       "3  1.916752         nan              NaN              NaN  ivanteevka     RUS   \n",
       "4  1.981067         nan              NaN              NaN      moscow     RUS   \n",
       "\n",
       "  currency                       customer_id   mcc  \\\n",
       "0    643.0  00fd410f5c580c8351cafa88d82b60f3  5411   \n",
       "1    643.0  00fd410f5c580c8351cafa88d82b60f3  4111   \n",
       "2    643.0  00fd410f5c580c8351cafa88d82b60f3  5411   \n",
       "3    643.0  00fd410f5c580c8351cafa88d82b60f3  5411   \n",
       "4    643.0  00fd410f5c580c8351cafa88d82b60f3  5814   \n",
       "\n",
       "                                         pos_address  pos_address_lat  \\\n",
       "0       2-1 tolmacheva strivanteevka141280    rusrus        55.967487   \n",
       "1            sovetskij, 32ivanteevka141282    rusrus        55.971296   \n",
       "2      105,krasoarmeyskoe shpushkino141206    rusrus        56.016591   \n",
       "3  g. ivanteevka, ul.tolmacheva, d.6ivanteevka141...        55.964507   \n",
       "4           5 komsomolskaya sqmoscow101000    rusrus        55.776802   \n",
       "\n",
       "   pos_address_lon                       terminal_id transaction_date  dow  \\\n",
       "0        37.913682  ff0476dae4b098a7b16aabe93d4268df       2017-08-24  3.0   \n",
       "1        37.905184  7cfd9a60282459d4692ecc85b856072e       2017-08-12  5.0   \n",
       "2        37.909098  7e5a532f0029861d8a9c4f0479b9450b       2017-06-17  5.0   \n",
       "3        37.937912  2afe7d1bc61b86c449f413bdf2119032       2017-08-12  5.0   \n",
       "4        37.657352  ab4f00601ff1d949afc59ee3f804c79c       2017-04-26  2.0   \n",
       "\n",
       "   hol  date_int  \n",
       "0    0     235.0  \n",
       "1    1     223.0  \n",
       "2    1     167.0  \n",
       "3    1     223.0  \n",
       "4    0     115.0  "
      ]
     },
     "execution_count": 272,
     "metadata": {},
     "output_type": "execute_result"
    }
   ],
   "source": [
    "print('test shape = ', test.shape)\n",
    "test.head(5)"
   ]
  },
  {
   "cell_type": "code",
   "execution_count": 274,
   "metadata": {
    "collapsed": true
   },
   "outputs": [],
   "source": [
    "#Небольшой косяк в названии колонок\n",
    "train.rename(columns={'pos_adress_lat':'pos_address_lat', 'pos_adress_lon':'pos_address_lon'}, inplace=True)\n",
    "\n",
    "#Объединим train и test для удобства\n",
    "data = pd.concat([train, test], axis=0)"
   ]
  },
  {
   "cell_type": "markdown",
   "metadata": {},
   "source": [
    "## Описание колонок\n",
    "\n",
    "**terminal_id**  -  идентификационный номер терминала  \n",
    "**customer_id**  -  идентификационный номер клиента  \n",
    "**amount**  -  количество потраченных средств за транзакцию\n",
    "**city**  -  город\n",
    "**country**  -  страна  \n",
    "**currency**  -  валюта  \n",
    "**mcc**  -  код категории продавца  \n",
    "**transaction_date**  -  дата транзакции  \n",
    "**atm_address**  -  адрес банкомата  \n",
    "**atm_address_lat**  -  адрес установки банкомата широта  \n",
    "**atm_address_lon**  -  адрес установки банкомата долгота  \n",
    "**pos_address**  -  адрес установки pos-терминала  \n",
    "**pos_address_lat**  -  адрес установки pos-терминала широта  \n",
    "**pos_address_lon**  -  адрес установки pos-терминала долгота  \n",
    "**work_add_lat**  -  широта работы клиента  \n",
    "**work_add_lon**  -  долгота работы клиента  \n",
    "**home_add_lat**  -  широта дома клиента  \n",
    "**home_add_lon**  -  долгота дома клиента  "
   ]
  },
  {
   "cell_type": "markdown",
   "metadata": {},
   "source": [
    "## Особенности данных"
   ]
  },
  {
   "cell_type": "markdown",
   "metadata": {},
   "source": [
    "**1)** Всего имеем примерно 300000 различных терминалов (пересекаются в трейне и тесте)  \n",
    "**2)** Имеем по 10000 и 9997 непересекающихся кастомеров в трейне и тесте соответственно  \n",
    "**3)** Распределение сумм транзакций приведено на гистограмме (С учетом валюты)"
   ]
  },
  {
   "cell_type": "code",
   "execution_count": 275,
   "metadata": {},
   "outputs": [
    {
     "data": {
      "image/png": "[encoded data removed]",
      "text/plain": [
       "<Figure size 576x432 with 1 Axes>"
      ]
     },
     "metadata": {},
     "output_type": "display_data"
    }
   ],
   "source": [
    "plt.figure(figsize = (8, 6))\n",
    "_ = plt.hist(data.amount, bins = 100)"
   ]
  },
  {
   "cell_type": "markdown",
   "metadata": {},
   "source": [
    "**4)** Страна почти везде Россия, валюта почти везде рубль (ничего интересного)  \n",
    "**5)** До обработки имеем почти 10000 различных городов, данные очень грязные. Один порой имеет более 10 видов написания, часто обрезанное по длине или с ошибками. Например **[MOSCOW, MOSKVA, Moskva]** или **[SANKT-PETERBU, ST-PETERSBURG, ST PETERSBURG, St Petersburg]**.   \n",
    "После стандартной обработки текста (Приведение к нижнему регистру, удаление точек, дефисов и пробелов, единообразие написания наиболее часто встречающихся городов) мы получили 4.5к различных городов. Но данные попрежнему грязные  \n",
    "**6)** Всего около 300 различных mcc кодов  \n",
    "**7)** И в тесте и трейне представлены даты с февраля по ноябрь 2017 года (год, месяц, число, без времени)  \n",
    "**8)** Адреса терминалов (есть не везде) часто не имеют структурированного вида, но пригодны чтобы выцеплять из них какие нибудь патерны  "
   ]
  },
  {
   "cell_type": "markdown",
   "metadata": {},
   "source": [
    "Многие данные имеют неподходящий тип, поэтому приведем все к общему виду, а также добавим еще некоторые колонки:  "
   ]
  },
  {
   "cell_type": "code",
   "execution_count": 7,
   "metadata": {},
   "outputs": [
    {
     "name": "stderr",
     "output_type": "stream",
     "text": [
      "100%|██████████| 7/7 [00:02<00:00,  2.77it/s]\n",
      "100%|██████████| 7/7 [00:02<00:00,  2.81it/s]\n"
     ]
    }
   ],
   "source": [
    "for c in tqdm(['city', 'mcc', 'atm_address', 'pos_address', 'transaction_date', 'terminal_id', 'currency']):\n",
    "    test[c] = test[c].apply(lambda x: str(x).lower())\n",
    "    \n",
    "for c in tqdm(['city', 'mcc', 'atm_address', 'pos_address', 'transaction_date', 'terminal_id', 'currency']):\n",
    "    train[c] = train[c].apply(lambda x: str(x).lower())\n",
    "\n",
    "train.mcc = train.mcc.apply(lambda x: x.replace(',', ''))\n",
    "test.mcc = test.mcc.apply(lambda x: x.replace(',', ''))\n",
    "\n",
    "train.transaction_date = pd.to_datetime(train.transaction_date)\n",
    "test.transaction_date = pd.to_datetime(test.transaction_date)\n",
    "# день недели\n",
    "train['dow'] = train.transaction_date.dt.dayofweek\n",
    "test['dow'] = test.transaction_date.dt.dayofweek\n",
    "train.transaction_date = train.transaction_date.dt.date\n",
    "test.transaction_date = test.transaction_date.dt.date\n",
    "\n",
    "# выходные (Сб, Вс)\n",
    "train['hol'] = train.dow.apply(lambda x: int(x>4))\n",
    "test['hol'] = test.dow.apply(lambda x: int(x>4))\n",
    "\n",
    "dt = date(2017, 1, 1)\n",
    "# номер дня в году\n",
    "train['date_int'] = train.transaction_date - dt\n",
    "test['date_int'] = test.transaction_date - dt\n",
    "train['date_int'] =train['date_int'].apply(lambda x: x.days)\n",
    "test['date_int'] =test['date_int'].apply(lambda x: x.days)"
   ]
  },
  {
   "cell_type": "markdown",
   "metadata": {},
   "source": [
    "## Первый взгляд\n",
    "\n",
    "Первое, что захотелось сделать, это посмотреть на расположение транзакций"
   ]
  },
  {
   "cell_type": "code",
   "execution_count": 239,
   "metadata": {},
   "outputs": [
    {
     "data": {
      "image/png": "[encoded data removed]",
      "text/plain": [
       "<Figure size 720x720 with 1 Axes>"
      ]
     },
     "metadata": {},
     "output_type": "display_data"
    }
   ],
   "source": [
    "def plot(df):\n",
    "    uniq_cust = train.customer_id.unique()\n",
    "    s = np.random.choice(uniq_cust, size=1)[0]\n",
    "    \n",
    "    temp = train[train.customer_id == s]\n",
    "    home = train[train.customer_id == s][['home_add_lat', 'home_add_lon']].values[0]\n",
    "    work = train[train.customer_id == s][['work_add_lat', 'work_add_lon']].values[0]\n",
    "\n",
    "    temp2 = pd.concat([temp[['atm_address_lat', 'atm_address_lon']].rename(columns={'atm_address_lat':'lat', 'atm_address_lon':'lon'}), \\\n",
    "                       temp[['pos_address_lat', 'pos_address_lon']].rename(columns={'pos_address_lat':'lat', 'pos_address_lon':'lon'})])\n",
    "    \n",
    "    temp2.dropna(inplace=True)\n",
    "    \n",
    "    plt.figure(figsize=(10,10))\n",
    "    plt.scatter(temp2.lat, temp2.lon, c='green', label='transaction')\n",
    "    plt.scatter(home[0], home[1], c='cyan', marker='x', label='home')\n",
    "    plt.scatter(work[0], work[1], c='pink', marker='x', label = 'work')\n",
    "    plt.legend(fontsize=16)\n",
    "    plt.title('customer '+s)\n",
    "\n",
    "plot(train)"
   ]
  },
  {
   "cell_type": "markdown",
   "metadata": {},
   "source": [
    "Очевидно, что в основном работа и дом распологаются около места какой нибудь транзакции, Также видно, что часто всю картину можно  разбить на несколько кластеров с некоторыми выбросами. И часто места работы и дома находятся в этих кластерах.  \n",
    "\n",
    "**Здесь встает первый важный вопрос, как мы поставим задачу?**  \n",
    "**1)** Мы можем выбирать координаты некоторый транзакции в качестве ответа (возможно еще постпроцессинг)   \n",
    "**2)** Мы можем кластеризовать транзакции, выбрать кластер, аггрегировать ответ по кластеру  \n",
    "\n",
    "По причине удобства работы с меньшими данными и не очень большим количеством оперативной памяти, я выбрал второй вариант. И потенциал первого способа кажется больше, т.к мы имеем возможность выбрать точку вне кластера и оказаться правы.   \n",
    "\n",
    "Таким образом, мы генерим признаки для кластера и подаем это на вход нашему алгоритму.   \n",
    "\n",
    "**Здесь встает второй важный вопрос, что за задачу мы получили? Классификация или Регрессия?**  \n",
    "Ответ оказывается не таким очевидным. Давайте попробуем разные варианты\n"
   ]
  },
  {
   "cell_type": "markdown",
   "metadata": {},
   "source": [
    "# Кластеризация\n",
    "\n",
    "Для начала нужно определиться с алгоритмом кластеризации. Из структуры данных и смысла задачи самыми подходящими  алгоритмами являются алгоритмы основанные на плотности (Пробовал также иерархическую кластеризацию, она показала себя гораздо хуже). Поэтому выбор остановился на алгоритме DBSCAN. Таким образом мы получили первые два гиперпараметра в нашей задаче, это параметры DBSCAN-а: радиус окрестности и количество точек в окрестности.  \n",
    "\n",
    "Выбор этих гиперпараметров производился на глаз (т.е смотря на картинки ниже), и понимания что что в итоге мы должны попасть в окрестность радиуса 0.02"
   ]
  },
  {
   "cell_type": "code",
   "execution_count": 267,
   "metadata": {},
   "outputs": [
    {
     "name": "stdout",
     "output_type": "stream",
     "text": [
      "2\n"
     ]
    },
    {
     "data": {
      "image/png": "[encoded data removed]",
      "text/plain": [
       "<Figure size 720x720 with 1 Axes>"
      ]
     },
     "metadata": {},
     "output_type": "display_data"
    }
   ],
   "source": [
    "from sklearn.cluster import DBSCAN\n",
    "def plot2(df, e, n):\n",
    "    uniq_cust = train.customer_id.unique()\n",
    "    s = np.random.choice(uniq_cust, size=1)[0]\n",
    "    \n",
    "    temp = train[train.customer_id == s]\n",
    "    home = train[train.customer_id == s][['home_add_lat', 'home_add_lon']].values[0]\n",
    "    work = train[train.customer_id == s][['work_add_lat', 'work_add_lon']].values[0]\n",
    "\n",
    "    temp2 = pd.concat([temp[['atm_address_lat', 'atm_address_lon']].rename(columns={'atm_address_lat':'lat', 'atm_address_lon':'lon'}), \\\n",
    "                       temp[['pos_address_lat', 'pos_address_lon']].rename(columns={'pos_address_lat':'lat', 'pos_address_lon':'lon'})])\n",
    "    \n",
    "    temp2.dropna(inplace=True)\n",
    "    \n",
    "    clf = DBSCAN(eps = e, p=2, min_samples=n)\n",
    "    temp2['out'] = clf.fit_predict(temp2[['lat', 'lon']].values)\n",
    "    \n",
    "    plt.figure(figsize=(10,10))\n",
    "    colors = ['blue', 'green', 'red', 'violet', 'orange', 'brown', 'grey', 'yellow', 'magenta', 'cyan', 'pink', 'silver', 'gold', 'black', 'purple', 'olive','blue', 'green', 'red', 'violet', 'orange', 'brown', 'grey', 'yellow']\n",
    "    \n",
    "    print(temp2.out.max()+1)\n",
    "    for c in range(temp2.out.max()+1):\n",
    "        plt.scatter(temp2[temp2.out == c].lat, temp2[temp2.out == c].lon, c=colors[c], label = 'transactions')\n",
    "    \n",
    "#     plt.scatter(temp2[temp2.out == -1].lat, temp2[temp2.out == -1].lon, c='black')\n",
    "    \n",
    "    plt.scatter(home[0], home[1], c='cyan', marker='x', label='home')\n",
    "    plt.scatter(work[0], work[1], c='pink', marker='x', label='work')\n",
    "    plt.legend(fontsize=12)\n",
    "    plt.title('customer '+s)\n",
    "\n",
    "plot2(train, 0.05, 3)"
   ]
  },
  {
   "cell_type": "markdown",
   "metadata": {
    "collapsed": true
   },
   "source": [
    "# Baseline"
   ]
  },
  {
   "cell_type": "markdown",
   "metadata": {
    "collapsed": true
   },
   "source": [
    "В качестве baseline-а я выбрал следующее решение: кластеризуем все точки с параметрами радиус = 0.05, количество точек  = 3, затем выбираем самый большой кластер (в нем больше всего транзакций) выбираем среднюю/медианнную точку по кластеру и в качестве кординаты дома, и в качестве координаты работы.   \n",
    "\n",
    "Здесь и далее буду приводить Результаты алгоритма по валидации на трейне.\n",
    "Для предложенного baseline-а (валидация здесь не нужна) результат был **0.3095** (**0.39425**  для дома и **0.22475** для работы)"
   ]
  },
  {
   "cell_type": "markdown",
   "metadata": {
    "collapsed": true
   },
   "source": [
    "# Валидация"
   ]
  },
  {
   "cell_type": "markdown",
   "metadata": {
    "collapsed": true
   },
   "source": [
    "Я использовал кастомную трехфолдовую валидацию. Разбивал всех кастомеров на три группы. Обучал на двух группах, на третьей предсказывал. Так как трейн состоит всего из 10000 кастомеров то скор порой сильно зависил от того как были сгруппированы кастомеры по фолдам. Разбитие на фолды происходило каждый раз рандомно, т.к. при фиксированном random_state модель переобучалась под валидацию. Поэтому в итоге я брал усреднение по трем разным рандомным reandom_state-ам "
   ]
  },
  {
   "cell_type": "markdown",
   "metadata": {
    "collapsed": true
   },
   "source": [
    "# Признаки"
   ]
  },
  {
   "cell_type": "markdown",
   "metadata": {
    "collapsed": true
   },
   "source": [
    "Для основной модели нам нужно было сгенерировать признаки для кластеров.  \n",
    "\n",
    "Всего было попробовано около 400 признаков, из которых в финальную модель вошло около 250.\n",
    "В большинстве случаем я не различал транзакции из терминалов и из pos-терминалов.  \n",
    "В данной задаче я не использовал какого-то определенного метода отбора фичей. Отбор производился из собственных соображений и проверялся на валидации (и на паблик лидерборде)   \n",
    "\n",
    "Все признаки перечислять не вижу смысла, поэтому перечислю только основные идеи:   \n",
    "\n",
    "**1)**Информация о клиенте, сколько покупок, сколько уникальных мест покупок, суммы покупок, распределение покупок по выходным и не выходным дням\n",
    "\n",
    "**2)**Количество транзакция в кластере, количество транзакций клиента, количества транзакций по дням недели, а также по выходным  и не выходным дням, дисперсия координат в кластере, количество кластеров этого клиента   \n",
    "\n",
    "**3)**Среднее и медианное значение суммы транзакций, также я разделил все транзакции на три сегмента взависимости от суммы и проаггрегировал по каждой группе, также отдельно рассмотрел суммы из терминалов    \n",
    "\n",
    "**4)**Частота покупок в данном кластере, дисперсия временных интервалов между соседними транзакциями, отдельно проагрегировал по временам года    \n",
    "\n",
    "**5)**Я выделил некоторые важные mcc коды в группы (названия говорят сами за себя: продукты, рестораны и кафе, банки, аптеки, отели и гостиницы, парковка, обслуживание автомобиля, универмаги, спортивные товары, парикмахерские, салоны красоты, одежда, одежда для детей) которые мне казалось могут дать полезную информацию, и аггрегировал по этим группам. (Далее, это будет упоминаться как группы товаров)   \n",
    "\n",
    "**6)**Т.к количество кластеров для каждого кастомера разное, то я посчитал что нужны фичи которые ранжировали бы кластер среди всех кластеров данного клиента. Например по количеству транзакция, количеству транзакций по категориям, по дисперсии координат   \n",
    "\n",
    "**7)**Количество покупок по группам товаров в радиусе относительно центра кластера. Для разных радиусов и групп товаров   \n",
    "\n",
    "**8)**Расстояние от центра кластера до ближайше транзакции определенной группы товаров  \n",
    "\n",
    "**9)**Смотря на весь датасет, можем для каждого кластера вычислить количество магазинов (не транзакций, т.е данный кастомер возможно там ничего и не покупал, но покупал какой то другой кастомер) разных типов товаров в определенном радиусе   \n",
    "\n"
   ]
  },
  {
   "cell_type": "markdown",
   "metadata": {
    "collapsed": true
   },
   "source": [
    "# Задача и алгоритм"
   ]
  },
  {
   "cell_type": "markdown",
   "metadata": {
    "collapsed": true
   },
   "source": [
    "**1)** Первым делом я попробывал решать задачу регрессии, т.е предсказывать для каждого кластера растояние от центра кластера до дома/работы. Затем выбирать класстер с наименьшим расстоянием.    \n",
    "\n",
    "**2)**Затем я рассмотрел задачу классификации (1 - усли центр попадает в радиус 0.02, и 0 - если не попадает). Затем брал кластер, который имеет наибольшую вероятность быть единицей.   \n",
    "\n",
    "Среди алгоритмов рассмотрел: Линейную модель, Random Forest и xgboost. Ничего удивительного не произошло и xgboost оказался гораздо лучше своих конкурентов. Поэтому далее будем говорить только о нем. \n",
    "\n",
    "Вторая постановка задачи оказалась более успешной. Валидация дала **0.405** (на уже подтюниных параметрах), в то время как в задаче регрессии было получено **0.389625**, что тоже гораздо лучше baseline-а  "
   ]
  },
  {
   "cell_type": "markdown",
   "metadata": {},
   "source": [
    "# Тюнинг модели"
   ]
  },
  {
   "cell_type": "markdown",
   "metadata": {},
   "source": [
    "Сначала, при достаточно большом learning_rate = 0.1 и не очень большом количестве деревьев мы находим оптимальную глубину. Затем проверяем наш выбор увеличивая количество деревьев, тем самым также находя оптимальное каличество деревьев. Теперь мы можем более тонко настроить параметры, уменьшаем learning_rate и одновременно увеличиваем количество деревьев, находя оптимальные параметры. Теперь можно вносить некоторый рандом использую параметры subsample, colsample_bytree, colsample_bylevel (также возможно немного увеличивая число деревьев). Другие параметры я не использовал.   \n",
    "\n",
    "Итоговая модель работала при learning_rate = 0.009, max_depth = 7, num_boost_round=1100, subsample = 0.7, colsample_bytree = 0.8, colsample_bylevel = 0.9   \n",
    "\n",
    "Хочется отметить что большой прирост принесло уменьшение subsample, и это наверное не удивительно для не самого большого датасета с большим количеством выбросов (Имеется в виду что в данных есть достаточно много примеров когда работа или дом находились очень долеко от места транзакций, однако исключение таких примеров не давало прироста на паблике, т.к сам тест тоже содержит много таких же выбросов)  "
   ]
  },
  {
   "cell_type": "markdown",
   "metadata": {},
   "source": [
    "# Гиперпараметры"
   ]
  },
  {
   "cell_type": "markdown",
   "metadata": {},
   "source": [
    "После того как мы подобрали параметры xgboost-а, основными параметрами решения остались гиперпараметры кластеризации. Они действительно являются очень важными. Если мы начнем уменьшать радиус (также меняя количество точек в окружности), тем самым измельчая кластеризацию, то в пределе мы придем к задаче обсуждаемой ранее, когда мы вместо выбора кластера хотели выбирать точку (ведь при некоторых параметрах точка тоже является кластером). Эта задача казалась нам более перспективной по многим причинам. И вот теперь мы понимаем, что наши гиперпараметры отвечают за плавный переход между этими двумя задачами. Наша цель представляется сейчас как нахождения параметров для оптимального размера кластеров.     \n",
    "\n",
    "Я провалидировал эти параметры по сетке, для значений радиуса [0.05, 0.03, 0.02, 0.016, 0.012, 0.01] и значений количества точек [1, 2, 3]. Графики представлены ниже:"
   ]
  },
  {
   "cell_type": "code",
   "execution_count": 157,
   "metadata": {},
   "outputs": [
    {
     "data": {
      "text/plain": [
       "Text(0,0.5,'validation score')"
      ]
     },
     "execution_count": 157,
     "metadata": {},
     "output_type": "execute_result"
    },
    {
     "data": {
      "image/png": "[encoded data removed]",
      "text/plain": [
       "<Figure size 720x576 with 1 Axes>"
      ]
     },
     "metadata": {},
     "output_type": "display_data"
    }
   ],
   "source": [
    "x = [0.05, 0.03, 0.02, 0.016, 0.012, 0.01]\n",
    "\n",
    "num1 = [0.41115, 0.419, 0.42785, 0.43335, 0.43895, 0.43775]\n",
    "num2 = [0.40375, 0.41775, 0.42525, 0.42835, 0.42995, 0.42635]\n",
    "num3 = [0.405, 0.41475, 0.4161, 0.4095, 0.37075, 0.3575]\n",
    "\n",
    "plt.figure(figsize = (10,8))\n",
    "plt.plot(x, num1, c='green', label = 'one neighbour')\n",
    "plt.plot(x, num2, c='blue', label = 'two neighbours')\n",
    "plt.plot(x, num3, c='red', label = 'three neighbours')\n",
    "plt.legend(loc='best', fontsize =14)\n",
    "plt.title('Dependence on hyperparameters', fontsize =20)\n",
    "plt.xlabel('radius', fontsize =16)\n",
    "plt.ylabel('validation score', fontsize =16)"
   ]
  },
  {
   "cell_type": "markdown",
   "metadata": {
    "collapsed": true
   },
   "source": [
    "Таким образом, для финальной моделе были выбраны гиперпараметры r = 0.012, n = 1   \n",
    "\n",
    "На public-лидерборде модель показала результат 0.440875 и 6-ое место (из 573 участников), на private-лидерборде модель показала 0.424796 и итоговое 7-ое место.  "
   ]
  },
  {
   "cell_type": "markdown",
   "metadata": {
    "collapsed": true
   },
   "source": [
    "# Интересные идеи"
   ]
  },
  {
   "cell_type": "markdown",
   "metadata": {
    "collapsed": true
   },
   "source": [
    "**1)** Вместо решения двух задач бинарной классификации (одна для выбора дома, другая для выбора работы), как это было сделано в задаче, пробовалась идея решения однойзадачи классификации на 4 класса ('дом и работа', 'дом, но не работа', 'работа, но не дом', 'ни дом, и ни работа'). Такая постановка задачи учитывала бы при предсказании работы, например, тот факт, находится ли в этом месте дом. Однако идея оказалась не успешной. Во многом по причине того что в трейне очень большое количество клиентов не имели работы, тем самым сильно сокращая обучающую выборку  \n",
    "\n",
    "**2)** Также, для решения той же проблемы, был предложен такой подход. Обучали модель для дома на трейне, и предсказывали вероятность дома на тесте. Затем, на трейне для дома делали кросспредикт и обучали модель для работы на трейне учитывая вероятностями дома как признаки. А затем предсказывали работу на тесте учитывая предсказанную ранее на тесте рабрту. Данный подход поначалу приносил пользу, но когда модель была уже хорошая подход почти ничего не давал, так что в итоговой моделе он не использовался.   \n",
    "\n",
    "**3)** Одной из особенностей тренировочного и тестового датасетов было то, что в них было небольшое количество транзакций, для которых был указан адрес, но латитьюда и лонгитьюда не были известны. Поэтому была возможность востановить эти неизвестные значения использую googlemaps. Эта ручная работа заняла несколько часов времени и дала примерно 45000 новых строк (к уже имеющимся 2400000). Этот подход принес небольшой плюс в определении работы, но точность определения дома упала. В итоге подход не был использован. \n",
    "\n",
    "\n",
    "\n",
    "\n",
    "\n",
    "\n",
    "\n",
    "\n",
    "\n",
    "\n"
   ]
  },
  {
   "cell_type": "code",
   "execution_count": null,
   "metadata": {
    "collapsed": true
   },
   "outputs": [],
   "source": []
  },
  {
   "cell_type": "code",
   "execution_count": null,
   "metadata": {
    "collapsed": true
   },
   "outputs": [],
   "source": []
  },
  {
   "cell_type": "code",
   "execution_count": null,
   "metadata": {
    "collapsed": true
   },
   "outputs": [],
   "source": []
  },
  {
   "cell_type": "code",
   "execution_count": null,
   "metadata": {
    "collapsed": true
   },
   "outputs": [],
   "source": []
  },
  {
   "cell_type": "code",
   "execution_count": null,
   "metadata": {
    "collapsed": true
   },
   "outputs": [],
   "source": []
  },
  {
   "cell_type": "code",
   "execution_count": null,
   "metadata": {
    "collapsed": true
   },
   "outputs": [],
   "source": []
  },
  {
   "cell_type": "code",
   "execution_count": null,
   "metadata": {
    "collapsed": true
   },
   "outputs": [],
   "source": []
  },
  {
   "cell_type": "code",
   "execution_count": null,
   "metadata": {
    "collapsed": true
   },
   "outputs": [],
   "source": []
  },
  {
   "cell_type": "code",
   "execution_count": null,
   "metadata": {
    "collapsed": true
   },
   "outputs": [],
   "source": []
  },
  {
   "cell_type": "code",
   "execution_count": null,
   "metadata": {
    "collapsed": true
   },
   "outputs": [],
   "source": []
  },
  {
   "cell_type": "code",
   "execution_count": null,
   "metadata": {
    "collapsed": true
   },
   "outputs": [],
   "source": []
  }
 ],
 "metadata": {
  "kernelspec": {
   "display_name": "Python 3",
   "language": "python",
   "name": "python3"
  },
  "language_info": {
   "codemirror_mode": {
    "name": "ipython",
    "version": 3
   },
   "file_extension": ".py",
   "mimetype": "text/x-python",
   "name": "python",
   "nbconvert_exporter": "python",
   "pygments_lexer": "ipython3",
   "version": "3.6.3"
  }
 },
 "nbformat": 4,
 "nbformat_minor": 2
}

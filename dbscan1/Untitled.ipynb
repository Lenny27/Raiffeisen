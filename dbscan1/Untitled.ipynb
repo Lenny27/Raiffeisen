{
 "cells": [
  {
   "cell_type": "code",
   "execution_count": 1,
   "metadata": {
    "collapsed": true
   },
   "outputs": [],
   "source": [
    "import pandas as pd"
   ]
  },
  {
   "cell_type": "code",
   "execution_count": 2,
   "metadata": {},
   "outputs": [
    {
     "name": "stdout",
     "output_type": "stream",
     "text": [
      "(83682, 246) (88016, 245) (85137, 246) (165756, 245)\n"
     ]
    }
   ],
   "source": [
    "tr_h = pd.read_csv('../train2_dbscan2_0.012_home.csv')\n",
    "ts_h = pd.read_csv('../test2_dbscan2_0.012.csv')\n",
    "\n",
    "tr_w = pd.read_csv('../train2_dbscan1_0.012_work.csv')\n",
    "ts_w = pd.read_csv('../test2_dbscan1_0.012.csv')\n",
    "print(tr_h.shape, ts_h.shape, tr_w.shape, ts_w.shape)"
   ]
  },
  {
   "cell_type": "code",
   "execution_count": 4,
   "metadata": {},
   "outputs": [
    {
     "name": "stdout",
     "output_type": "stream",
     "text": [
      "(66646, 8) (69916, 8) (68667, 8) (133485, 8)\n"
     ]
    }
   ],
   "source": [
    "tr_h3 = pd.read_csv('../train_home_nearest_2_12.csv')\n",
    "ts_h3 = pd.read_csv('../test_nearest_2_12.csv')\n",
    "\n",
    "tr_w3 = pd.read_csv('../train_work_nearest_1_10.csv')\n",
    "ts_w3 = pd.read_csv('../test_nearest_1_10.csv')\n",
    "print(tr_h3.shape, ts_h3.shape, tr_w3.shape, ts_w3.shape)"
   ]
  },
  {
   "cell_type": "code",
   "execution_count": 5,
   "metadata": {},
   "outputs": [
    {
     "name": "stdout",
     "output_type": "stream",
     "text": [
      "(83682, 10) (88016, 10) (85137, 10) (165756, 10)\n"
     ]
    }
   ],
   "source": [
    "tr_h1 = pd.read_csv('../train2_home_2_0.012_hol_terminals.csv')\n",
    "ts_h1 = pd.read_csv('../test2_2_0.012_hol_terminals.csv')\n",
    "\n",
    "tr_w1 = pd.read_csv('../train2_work_1_0.012_hol_terminals.csv')\n",
    "ts_w1 = pd.read_csv('../test2_1_0.012_hol_terminals.csv')\n",
    "print(tr_h1.shape, ts_h1.shape, tr_w1.shape, ts_w1.shape)"
   ]
  },
  {
   "cell_type": "code",
   "execution_count": null,
   "metadata": {
    "collapsed": true
   },
   "outputs": [],
   "source": [
    "tr_h2 = pd.read_csv('../train2_home_2_0.012_hol_terminals.csv')\n",
    "ts_h2 = pd.read_csv('../test2_2_0.012_hol_terminals.csv')\n",
    "\n",
    "tr_w2 = pd.read_csv('../train2_work_1_0.012_hol_terminals.csv')\n",
    "ts_w2 = pd.read_csv('../test2_1_0.012_hol_terminals.csv')\n",
    "print(tr_h2.shape, ts_h2.shape, tr_w2.shape, ts_w2.shape)"
   ]
  },
  {
   "cell_type": "code",
   "execution_count": null,
   "metadata": {
    "collapsed": true
   },
   "outputs": [],
   "source": [
    "tr_h4 = pd.read_csv('../train_home_last_feat.csv')\n",
    "ts_h4 = pd.read_csv('../test_home_last_feat.csv')\n",
    "\n",
    "tr_w4 = pd.read_csv('../train_work_last_feat.csv')\n",
    "ts_w4 = pd.read_csv('../tуые_work_last_feat.csv')\n",
    "print(tr_h4.shape, ts_h4.shape, tr_w4.shape, ts_w4.shape)\n",
    "\n",
    "'train_work_last_feat.csv'"
   ]
  },
  {
   "cell_type": "code",
   "execution_count": 7,
   "metadata": {},
   "outputs": [
    {
     "name": "stdout",
     "output_type": "stream",
     "text": [
      "(259651, 11) (259651, 11) (259651, 11) (259651, 11) (259651, 11) (259651, 11) (259651, 11)\n"
     ]
    }
   ],
   "source": [
    "pop1 = pd.read_csv('../popularity_0.005.csv')\n",
    "pop2 = pd.read_csv('../popularity_0.01.csv')\n",
    "pop3 = pd.read_csv('../popularity_0.02.csv')\n",
    "pop4 = pd.read_csv('../popularity_0.03.csv')\n",
    "pop5 = pd.read_csv('../popularity_0.04.csv')\n",
    "pop6 = pd.read_csv('../popularity_0.05.csv')\n",
    "pop7 = pd.read_csv('../popularity_0.08.csv')\n",
    "print(pop1.shape, pop2.shape,pop3.shape,pop4.shape,pop5.shape,pop6.shape,pop7.shape)"
   ]
  },
  {
   "cell_type": "code",
   "execution_count": null,
   "metadata": {},
   "outputs": [],
   "source": []
  },
  {
   "cell_type": "code",
   "execution_count": null,
   "metadata": {
    "collapsed": true
   },
   "outputs": [],
   "source": []
  },
  {
   "cell_type": "code",
   "execution_count": null,
   "metadata": {
    "collapsed": true
   },
   "outputs": [],
   "source": []
  },
  {
   "cell_type": "code",
   "execution_count": null,
   "metadata": {
    "collapsed": true
   },
   "outputs": [],
   "source": []
  },
  {
   "cell_type": "code",
   "execution_count": null,
   "metadata": {
    "collapsed": true
   },
   "outputs": [],
   "source": []
  },
  {
   "cell_type": "code",
   "execution_count": null,
   "metadata": {
    "collapsed": true
   },
   "outputs": [],
   "source": []
  },
  {
   "cell_type": "code",
   "execution_count": null,
   "metadata": {
    "collapsed": true
   },
   "outputs": [],
   "source": []
  },
  {
   "cell_type": "code",
   "execution_count": null,
   "metadata": {
    "collapsed": true
   },
   "outputs": [],
   "source": []
  },
  {
   "cell_type": "code",
   "execution_count": null,
   "metadata": {
    "collapsed": true
   },
   "outputs": [],
   "source": []
  },
  {
   "cell_type": "code",
   "execution_count": null,
   "metadata": {
    "collapsed": true
   },
   "outputs": [],
   "source": []
  },
  {
   "cell_type": "code",
   "execution_count": null,
   "metadata": {
    "collapsed": true
   },
   "outputs": [],
   "source": []
  },
  {
   "cell_type": "code",
   "execution_count": null,
   "metadata": {
    "collapsed": true
   },
   "outputs": [],
   "source": []
  },
  {
   "cell_type": "code",
   "execution_count": null,
   "metadata": {
    "collapsed": true
   },
   "outputs": [],
   "source": []
  },
  {
   "cell_type": "code",
   "execution_count": null,
   "metadata": {
    "collapsed": true
   },
   "outputs": [],
   "source": []
  },
  {
   "cell_type": "code",
   "execution_count": null,
   "metadata": {
    "collapsed": true
   },
   "outputs": [],
   "source": []
  },
  {
   "cell_type": "code",
   "execution_count": null,
   "metadata": {
    "collapsed": true
   },
   "outputs": [],
   "source": []
  },
  {
   "cell_type": "code",
   "execution_count": null,
   "metadata": {
    "collapsed": true
   },
   "outputs": [],
   "source": []
  },
  {
   "cell_type": "code",
   "execution_count": null,
   "metadata": {
    "collapsed": true
   },
   "outputs": [],
   "source": []
  },
  {
   "cell_type": "code",
   "execution_count": null,
   "metadata": {
    "collapsed": true
   },
   "outputs": [],
   "source": []
  },
  {
   "cell_type": "code",
   "execution_count": null,
   "metadata": {
    "collapsed": true
   },
   "outputs": [],
   "source": []
  },
  {
   "cell_type": "code",
   "execution_count": null,
   "metadata": {
    "collapsed": true
   },
   "outputs": [],
   "source": []
  },
  {
   "cell_type": "code",
   "execution_count": null,
   "metadata": {
    "collapsed": true
   },
   "outputs": [],
   "source": []
  },
  {
   "cell_type": "code",
   "execution_count": null,
   "metadata": {
    "collapsed": true
   },
   "outputs": [],
   "source": []
  },
  {
   "cell_type": "code",
   "execution_count": null,
   "metadata": {
    "collapsed": true
   },
   "outputs": [],
   "source": []
  },
  {
   "cell_type": "code",
   "execution_count": null,
   "metadata": {
    "collapsed": true
   },
   "outputs": [],
   "source": []
  },
  {
   "cell_type": "code",
   "execution_count": null,
   "metadata": {
    "collapsed": true
   },
   "outputs": [],
   "source": []
  },
  {
   "cell_type": "code",
   "execution_count": null,
   "metadata": {
    "collapsed": true
   },
   "outputs": [],
   "source": []
  },
  {
   "cell_type": "code",
   "execution_count": null,
   "metadata": {
    "collapsed": true
   },
   "outputs": [],
   "source": []
  },
  {
   "cell_type": "code",
   "execution_count": 9,
   "metadata": {
    "scrolled": true
   },
   "outputs": [
    {
     "data": {
      "text/plain": [
       "['cross_predict_1_12.csv',\n",
       " 'test_1_0.008_hol_terminals.csv',\n",
       " 'test_1_0.008_hol_terminals_r.csv',\n",
       " 'test_1_0.009_hol_terminals.csv',\n",
       " 'test_1_0.011_hol_terminals.csv',\n",
       " 'test_1_0.012_hol_terminals.csv',\n",
       " 'test_1_0.012_hol_terminals_r2.csv',\n",
       " 'test_1_0.012_hol_terminals_r.csv',\n",
       " 'test_1_0.013_hol_terminals.csv',\n",
       " 'test_1_0.01_hol_terminals.csv',\n",
       " 'test_1_0.01_hol_terminals_r.csv',\n",
       " 'test_dbscan1_0.008.csv',\n",
       " 'test_dbscan1_0.009.csv',\n",
       " 'test_dbscan1_0.011.csv',\n",
       " 'test_dbscan1_0.012.csv',\n",
       " 'test_dbscan1_0.013.csv',\n",
       " 'test_dbscan1_0.01.csv',\n",
       " 'test_feat2_1_0.008.csv',\n",
       " 'test_feat2_1_0.009.csv',\n",
       " 'test_feat2_1_0.011.csv',\n",
       " 'test_feat2_1_0.012.csv',\n",
       " 'test_feat2_1_0.012_work.csv',\n",
       " 'test_feat2_1_0.013.csv',\n",
       " 'test_feat2_1_0.013_work.csv',\n",
       " 'test_feat2_1_0.01.csv',\n",
       " 'train_dbscan1_0.008_home.csv',\n",
       " 'train_dbscan1_0.009_home.csv',\n",
       " 'train_dbscan1_0.009_work.csv',\n",
       " 'train_dbscan1_0.011_home.csv',\n",
       " 'train_dbscan1_0.011_work.csv',\n",
       " 'train_dbscan1_0.012_home.csv',\n",
       " 'train_dbscan1_0.012_work.csv',\n",
       " 'train_dbscan1_0.013_work.csv',\n",
       " 'train_dbscan1_0.01_home.csv',\n",
       " 'train_dbscan1_0.01_work.csv',\n",
       " 'train_feat2_1_0.008_home.csv',\n",
       " 'train_feat2_1_0.009_home.csv',\n",
       " 'train_feat2_1_0.011_home.csv',\n",
       " 'train_feat2_1_0.011_work.csv',\n",
       " 'train_feat2_1_0.012_home.csv',\n",
       " 'train_feat2_1_0.012_work.csv',\n",
       " 'train_feat2_1_0.013_work.csv',\n",
       " 'train_feat2_1_0.01_home.csv',\n",
       " 'train_feat2_1_0.01_work.csv',\n",
       " 'train_home_1_0.008_hol_terminals.csv',\n",
       " 'train_home_1_0.008_hol_terminals_r.csv',\n",
       " 'train_home_1_0.009_hol_terminals.csv',\n",
       " 'train_home_1_0.011_hol_terminals.csv',\n",
       " 'train_home_1_0.012_hol_terminals.csv',\n",
       " 'train_home_1_0.012_hol_terminals_r.csv',\n",
       " 'train_home_1_0.01_hol_terminals.csv',\n",
       " 'train_home_1_0.01_hol_terminals_r.csv',\n",
       " 'train_work_1_0.009_hol_terminals.csv',\n",
       " 'train_work_1_0.011_hol_terminals.csv',\n",
       " 'train_work_1_0.012_hol_terminals.csv',\n",
       " 'train_work_1_0.012_hol_terminals_r2.csv',\n",
       " 'train_work_1_0.012_hol_terminals_r.csv',\n",
       " 'train_work_1_0.013_hol_terminals.csv',\n",
       " 'train_work_1_0.01_hol_terminals.csv',\n",
       " 'train_work_1_0.01_hol_terminals_r.csv',\n",
       " 'Untitled.ipynb']"
      ]
     },
     "execution_count": 9,
     "metadata": {},
     "output_type": "execute_result"
    }
   ],
   "source": [
    "a = !ls\n",
    "a"
   ]
  },
  {
   "cell_type": "markdown",
   "metadata": {},
   "source": [
    "# BASE"
   ]
  },
  {
   "cell_type": "code",
   "execution_count": 10,
   "metadata": {},
   "outputs": [
    {
     "name": "stdout",
     "output_type": "stream",
     "text": [
      "(183594, 248) (176674, 248) (170264, 248) (164542, 248)\n"
     ]
    }
   ],
   "source": [
    "tr8 = pd.read_csv('train_dbscan1_0.008_home.csv')\n",
    "tr9 = pd.read_csv('train_dbscan1_0.009_home.csv')\n",
    "tr10 = pd.read_csv('train_dbscan1_0.01_home.csv')\n",
    "tr11 = pd.read_csv('train_dbscan1_0.011_home.csv')\n",
    "print(tr8.shape, tr9.shape, tr10.shape, tr11.shape)"
   ]
  },
  {
   "cell_type": "code",
   "execution_count": 11,
   "metadata": {},
   "outputs": [
    {
     "name": "stdout",
     "output_type": "stream",
     "text": [
      "(93924, 248) (90554, 248) (87514, 248) (84607, 248) (82090, 248)\n"
     ]
    }
   ],
   "source": [
    "tr9w = pd.read_csv('train_dbscan1_0.009_work.csv')\n",
    "tr10w = pd.read_csv('train_dbscan1_0.01_work.csv')\n",
    "tr11w = pd.read_csv('train_dbscan1_0.011_work.csv')\n",
    "tr12w = pd.read_csv('train_dbscan1_0.012_work.csv')\n",
    "tr13w = pd.read_csv('train_dbscan1_0.013_work.csv')\n",
    "print(tr9w.shape, tr10w.shape, tr11w.shape, tr12w.shape, tr13w.shape)"
   ]
  },
  {
   "cell_type": "code",
   "execution_count": 12,
   "metadata": {},
   "outputs": [
    {
     "name": "stdout",
     "output_type": "stream",
     "text": [
      "(190176, 246) (182906, 245) (176167, 246) (170335, 245) (164731, 246) (159727, 245)\n"
     ]
    }
   ],
   "source": [
    "ts8 = pd.read_csv('test_dbscan1_0.008.csv')\n",
    "ts9 = pd.read_csv('test_dbscan1_0.009.csv')\n",
    "ts10 = pd.read_csv('test_dbscan1_0.01.csv')\n",
    "ts11 = pd.read_csv('test_dbscan1_0.011.csv')\n",
    "ts12 = pd.read_csv('test_dbscan1_0.012.csv')\n",
    "ts13 = pd.read_csv('test_dbscan1_0.013.csv')\n",
    "print(ts8.shape, ts9.shape, ts10.shape, ts11.shape, ts12.shape,ts13.shape)"
   ]
  },
  {
   "cell_type": "markdown",
   "metadata": {},
   "source": [
    "# FEAT2"
   ]
  },
  {
   "cell_type": "code",
   "execution_count": 13,
   "metadata": {},
   "outputs": [
    {
     "name": "stdout",
     "output_type": "stream",
     "text": [
      "(90554, 36) (87514, 36) (84607, 36) (82090, 36)\n",
      "(183594, 36) (176674, 36) (170264, 36) (164542, 36)\n"
     ]
    }
   ],
   "source": [
    "tr21 = pd.read_csv('train_feat2_1_0.01_work.csv')\n",
    "tr211 = pd.read_csv('train_feat2_1_0.011_work.csv')\n",
    "tr212 = pd.read_csv('train_feat2_1_0.012_work.csv')\n",
    "tr213 = pd.read_csv('train_feat2_1_0.013_work.csv')\n",
    "print(tr21.shape, tr211.shape, tr212.shape, tr213.shape)\n",
    "\n",
    "tr48 = pd.read_csv('train_feat2_1_0.008_home.csv')\n",
    "tr49 = pd.read_csv('train_feat2_1_0.009_home.csv')\n",
    "tr410 = pd.read_csv('train_feat2_1_0.01_home.csv')\n",
    "tr411 = pd.read_csv('train_feat2_1_0.011_home.csv')\n",
    "print(tr48.shape, tr49.shape, tr410.shape, tr411.shape)"
   ]
  },
  {
   "cell_type": "code",
   "execution_count": 14,
   "metadata": {},
   "outputs": [
    {
     "name": "stdout",
     "output_type": "stream",
     "text": [
      "(87309, 36) (85086, 36)\n",
      "(190176, 36) (182906, 36) (176167, 36) (170335, 36)\n"
     ]
    }
   ],
   "source": [
    "ts212 = pd.read_csv('test_feat2_1_0.012_work.csv')\n",
    "ts213 = pd.read_csv('test_feat2_1_0.013_work.csv')\n",
    "print(ts212.shape, ts213.shape)\n",
    "\n",
    "ts38 = pd.read_csv('test_feat2_1_0.008.csv')\n",
    "ts39 = pd.read_csv('test_feat2_1_0.009.csv')\n",
    "ts310 = pd.read_csv('test_feat2_1_0.01.csv')\n",
    "ts311 = pd.read_csv('test_feat2_1_0.011.csv')\n",
    "print(ts38.shape, ts39.shape, ts310.shape, ts311.shape)"
   ]
  },
  {
   "cell_type": "markdown",
   "metadata": {},
   "source": [
    "# HOL"
   ]
  },
  {
   "cell_type": "code",
   "execution_count": 15,
   "metadata": {},
   "outputs": [
    {
     "name": "stdout",
     "output_type": "stream",
     "text": [
      "(183594, 10) (176674, 10) (170264, 10) (164542, 10)\n",
      "(93924, 10) (90554, 10) (87514, 10) (84607, 10) (82090, 10)\n",
      "(190176, 10) (182906, 10) (176167, 10) (170335, 10) (164731, 10) (159727, 10)\n"
     ]
    }
   ],
   "source": [
    "tr38 = pd.read_csv('train_home_1_0.008_hol_terminals.csv')\n",
    "tr39 = pd.read_csv('train_home_1_0.009_hol_terminals.csv')\n",
    "tr310 = pd.read_csv('train_home_1_0.01_hol_terminals.csv')\n",
    "tr311 = pd.read_csv('train_home_1_0.011_hol_terminals.csv')\n",
    "print(tr38.shape, tr39.shape, tr310.shape, tr311.shape)\n",
    "\n",
    "tr39w = pd.read_csv('train_work_1_0.009_hol_terminals.csv')\n",
    "tr310w = pd.read_csv('train_work_1_0.01_hol_terminals.csv')\n",
    "tr311w = pd.read_csv('train_work_1_0.011_hol_terminals.csv')\n",
    "tr312w = pd.read_csv('train_work_1_0.012_hol_terminals.csv')\n",
    "tr313w = pd.read_csv('train_work_1_0.013_hol_terminals.csv')\n",
    "print(tr39w.shape, tr310w.shape, tr311w.shape, tr312w.shape, tr313w.shape)\n",
    "\n",
    "ts38 = pd.read_csv('test_1_0.008_hol_terminals.csv')\n",
    "ts39 = pd.read_csv('test_1_0.009_hol_terminals.csv')\n",
    "ts310 = pd.read_csv('test_1_0.01_hol_terminals.csv')\n",
    "ts311 = pd.read_csv('test_1_0.011_hol_terminals.csv')\n",
    "ts312 = pd.read_csv('test_1_0.012_hol_terminals.csv')\n",
    "ts313 = pd.read_csv('test_1_0.013_hol_terminals.csv')\n",
    "print(ts38.shape, ts39.shape, ts310.shape, ts311.shape, ts312.shape, ts313.shape)"
   ]
  },
  {
   "cell_type": "code",
   "execution_count": null,
   "metadata": {
    "collapsed": true
   },
   "outputs": [],
   "source": []
  },
  {
   "cell_type": "code",
   "execution_count": null,
   "metadata": {
    "collapsed": true
   },
   "outputs": [],
   "source": []
  },
  {
   "cell_type": "code",
   "execution_count": null,
   "metadata": {
    "collapsed": true
   },
   "outputs": [],
   "source": []
  },
  {
   "cell_type": "code",
   "execution_count": null,
   "metadata": {
    "collapsed": true
   },
   "outputs": [],
   "source": []
  },
  {
   "cell_type": "code",
   "execution_count": null,
   "metadata": {
    "collapsed": true
   },
   "outputs": [],
   "source": []
  },
  {
   "cell_type": "code",
   "execution_count": null,
   "metadata": {
    "collapsed": true
   },
   "outputs": [],
   "source": []
  },
  {
   "cell_type": "code",
   "execution_count": null,
   "metadata": {
    "collapsed": true
   },
   "outputs": [],
   "source": []
  },
  {
   "cell_type": "code",
   "execution_count": null,
   "metadata": {
    "collapsed": true
   },
   "outputs": [],
   "source": []
  }
 ],
 "metadata": {
  "kernelspec": {
   "display_name": "Python 3",
   "language": "python",
   "name": "python3"
  },
  "language_info": {
   "codemirror_mode": {
    "name": "ipython",
    "version": 3
   },
   "file_extension": ".py",
   "mimetype": "text/x-python",
   "name": "python",
   "nbconvert_exporter": "python",
   "pygments_lexer": "ipython3",
   "version": "3.6.3"
  }
 },
 "nbformat": 4,
 "nbformat_minor": 2
}

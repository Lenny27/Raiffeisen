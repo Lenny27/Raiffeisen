{
 "cells": [
  {
   "cell_type": "code",
   "execution_count": 1,
   "metadata": {},
   "outputs": [
    {
     "data": {
      "application/vnd.jupyter.widget-view+json": {
       "model_id": "687a03256aff4287bd8d9a34e55cd5ec",
       "version_major": 2,
       "version_minor": 0
      },
      "text/plain": [
       "A Jupyter Widget"
      ]
     },
     "metadata": {},
     "output_type": "display_data"
    },
    {
     "name": "stdout",
     "output_type": "stream",
     "text": [
      "\n"
     ]
    }
   ],
   "source": [
    "import numpy as np\n",
    "import pandas as pd\n",
    "import os\n",
    "from datetime import datetime\n",
    "from datetime import date\n",
    "from tqdm import tqdm_notebook\n",
    "from tqdm import tqdm\n",
    "tqdm_notebook().pandas()\n",
    "\n",
    "import matplotlib.pyplot as plt\n",
    "%matplotlib inline\n",
    "\n",
    "pd.options.display.max_rows = 300\n",
    "pd.options.display.max_columns = 100\n",
    "\n",
    "import warnings\n",
    "warnings.filterwarnings('ignore')"
   ]
  },
  {
   "cell_type": "code",
   "execution_count": 2,
   "metadata": {
    "collapsed": true
   },
   "outputs": [],
   "source": [
    "ddd = {}\n",
    "ddd['products'] = [5411, 5499]\n",
    "ddd['meal'] = [5812, 5814]\n",
    "ddd['bank'] = [6011, 6010]\n",
    "ddd['apteka'] = [5912]\n",
    "ddd['hotel'] = [7011]\n",
    "ddd['parking'] = [7523]\n",
    "ddd['alhogol'] = [5921]\n",
    "ddd['car'] = [5541, 5533]\n",
    "ddd['univermag'] = [5311, 5999, 5331]\n",
    "ddd['entertainment'] = [7832, 7932, 7933]\n",
    "ddd['sport'] = [5941]\n",
    "ddd['hair'] = [7230]\n",
    "ddd['cosm'] = [5977]\n",
    "ddd['clothes'] = [5699, 5651, 5661, 5641]\n",
    "ddd['child_clo'] = [5641]\n",
    "ddd['zoomag'] = [5995]\n",
    "mcc_list = ['products', 'meal', 'bank', 'apteka', 'hotel', 'parking', 'alhogol', 'car', 'univermag',\\\n",
    "            'entertainment', 'sport', 'hair', 'cosm', 'clothes', 'child_clo', 'zoomag']"
   ]
  },
  {
   "cell_type": "code",
   "execution_count": 3,
   "metadata": {
    "collapsed": true
   },
   "outputs": [],
   "source": [
    "train = pd.read_csv('train2.csv')\n",
    "test = pd.read_csv('test2.csv')\n",
    "samp = pd.read_csv('sample.csv')"
   ]
  },
  {
   "cell_type": "code",
   "execution_count": 4,
   "metadata": {
    "collapsed": true
   },
   "outputs": [],
   "source": [
    "train.rename(columns={'pos_adress_lat':'pos_address_lat', 'pos_adress_lon':'pos_address_lon'}, inplace=True)"
   ]
  },
  {
   "cell_type": "code",
   "execution_count": 5,
   "metadata": {
    "collapsed": true
   },
   "outputs": [],
   "source": [
    "data = pd.concat(\n",
    "[train[['amount', 'city', 'atm_address_lat', 'atm_address_lon', 'terminal_id', 'pos_address_lat', 'pos_address_lon','mcc']],\n",
    "test[['amount', 'city', 'atm_address_lat', 'atm_address_lon', 'terminal_id', 'pos_address_lat', 'pos_address_lon','mcc']]])"
   ]
  },
  {
   "cell_type": "code",
   "execution_count": null,
   "metadata": {
    "collapsed": true
   },
   "outputs": [],
   "source": [
    "data.fillna(-1, inplace=True)"
   ]
  },
  {
   "cell_type": "code",
   "execution_count": null,
   "metadata": {
    "scrolled": true
   },
   "outputs": [
    {
     "data": {
      "application/vnd.jupyter.widget-view+json": {
       "model_id": "d7f3baed18e84f1a9cf116c22efc3339",
       "version_major": 2,
       "version_minor": 0
      },
      "text/plain": [
       "A Jupyter Widget"
      ]
     },
     "metadata": {},
     "output_type": "display_data"
    },
    {
     "name": "stdout",
     "output_type": "stream",
     "text": [
      "\n"
     ]
    },
    {
     "data": {
      "application/vnd.jupyter.widget-view+json": {
       "model_id": "57d2398857674f2b99b63597ebea5b37",
       "version_major": 2,
       "version_minor": 0
      },
      "text/plain": [
       "A Jupyter Widget"
      ]
     },
     "metadata": {},
     "output_type": "display_data"
    }
   ],
   "source": [
    "data['lat'] = data.progress_apply(lambda x: max(x['atm_address_lat'], x['pos_address_lat']), axis=1)\n",
    "data['lon'] = data.progress_apply(lambda x: max(x['atm_address_lon'], x['pos_address_lon']), axis=1)"
   ]
  },
  {
   "cell_type": "code",
   "execution_count": null,
   "metadata": {
    "collapsed": true
   },
   "outputs": [],
   "source": [
    "data = data[data.lat > 0]"
   ]
  },
  {
   "cell_type": "code",
   "execution_count": null,
   "metadata": {
    "collapsed": true
   },
   "outputs": [],
   "source": [
    "data"
   ]
  },
  {
   "cell_type": "code",
   "execution_count": null,
   "metadata": {
    "collapsed": true
   },
   "outputs": [],
   "source": [
    "uniq_term = data.terminal_id.unique()"
   ]
  },
  {
   "cell_type": "code",
   "execution_count": null,
   "metadata": {
    "collapsed": true
   },
   "outputs": [],
   "source": [
    "std_lat = data.groupby('terminal_id').apply(lambda x: max(x['lat']) - min(x['lat'])).to_dict()\n",
    "std_lon = data.groupby('terminal_id').apply(lambda x: max(x['lon']) - min(x['lon'])).to_dict()\n",
    "\n",
    "data['mcc'] = data['mcc'].apply(lambda x: int(str(x).replace(',', '')))\n",
    "mcc = data.groupby('terminal_id').mcc.apply(lambda x: max(x)).to_dict()"
   ]
  },
  {
   "cell_type": "code",
   "execution_count": null,
   "metadata": {
    "collapsed": true
   },
   "outputs": [],
   "source": [
    "df = pd.DataFrame({'terminal_id':uniq_term})"
   ]
  },
  {
   "cell_type": "code",
   "execution_count": null,
   "metadata": {
    "collapsed": true
   },
   "outputs": [],
   "source": [
    "df['std_lat'] = df.terminal_id.map(std_lat)\n",
    "df['std_lon'] = df.terminal_id.map(std_lon)"
   ]
  },
  {
   "cell_type": "code",
   "execution_count": null,
   "metadata": {
    "collapsed": true
   },
   "outputs": [],
   "source": [
    "lat_mean = data.groupby('terminal_id').lat.mean().to_dict()\n",
    "lon_mean = data.groupby('terminal_id').lon.mean().to_dict()"
   ]
  },
  {
   "cell_type": "code",
   "execution_count": null,
   "metadata": {
    "collapsed": true
   },
   "outputs": [],
   "source": [
    "df['lat'] = df.terminal_id.map(lat_mean)\n",
    "df['lon'] = df.terminal_id.map(lon_mean)"
   ]
  },
  {
   "cell_type": "code",
   "execution_count": null,
   "metadata": {
    "collapsed": true
   },
   "outputs": [],
   "source": [
    "df = df[(df.std_lat < 0.008) & (df.std_lon < 0.008)]"
   ]
  },
  {
   "cell_type": "code",
   "execution_count": null,
   "metadata": {
    "collapsed": true
   },
   "outputs": [],
   "source": [
    "df['mcc'] = df.terminal_id.map(mcc)"
   ]
  },
  {
   "cell_type": "code",
   "execution_count": null,
   "metadata": {
    "collapsed": true
   },
   "outputs": [],
   "source": [
    "df"
   ]
  },
  {
   "cell_type": "code",
   "execution_count": null,
   "metadata": {
    "collapsed": true
   },
   "outputs": [],
   "source": [
    "mcc_list2 = ['products', 'meal', 'bank', 'apteka', 'univermag','clothes']\n",
    "\n",
    "r002 = []\n",
    "r002_pr = []\n",
    "r002_meal = []\n",
    "r002_bank = []\n",
    "r002_apt = []\n",
    "r002_univ = []\n",
    "r002_clo = []\n",
    "\n",
    "for line in tqdm_notebook(np.array(df)):\n",
    "    lat = line[3]\n",
    "    lon = line[4]\n",
    "    \n",
    "    df['y'] = np.sqrt((df.lat - lat)**2 + (df.lon - lon)**2)\n",
    "    r002.append(df[df.y < 0.02].shape[0])\n",
    "    r002_pr.append(df[(df.y < 0.02) & ((df.mcc == 5411) | (df.mcc == 5499)) ].shape[0])\n",
    "    r002_meal.append(df[(df.y < 0.02) & ((df.mcc == 5821) | (df.mcc == 5814)) ].shape[0])\n",
    "    r002_bank.append(df[(df.y < 0.02) & ((df.mcc == 6011) | (df.mcc == 6010)) ].shape[0])\n",
    "    r002_apt.append(df[(df.y < 0.02) & (df.mcc == 5912)].shape[0])\n",
    "    r002_univ.append(df[(df.y < 0.02) & ((df.mcc == 7832) | (df.mcc == 7932) | (df.mcc == 7933)) ].shape[0])\n",
    "    r002_clo.append(df[(df.y < 0.02) & ((df.mcc == 5699) | (df.mcc == 5651) | (df.mcc == 5661) | (df.mcc == 5641)) ].shape[0])\n",
    "    \n",
    "    \n",
    "df['r002'] = r002\n",
    "df['r002_pr'] = r002_pr\n",
    "df['r002_meal'] = r002_meal\n",
    "df['r002_bank'] = r002_bank\n",
    "df['r002_apt'] = r002_apt\n",
    "df['r002_univ'] = r002_univ\n",
    "df['r002_clo'] = r002_clo"
   ]
  },
  {
   "cell_type": "code",
   "execution_count": null,
   "metadata": {
    "collapsed": true
   },
   "outputs": [],
   "source": [
    "df.to_csv('popularity.csv', index=False)"
   ]
  },
  {
   "cell_type": "code",
   "execution_count": null,
   "metadata": {
    "collapsed": true
   },
   "outputs": [],
   "source": []
  },
  {
   "cell_type": "code",
   "execution_count": null,
   "metadata": {
    "collapsed": true
   },
   "outputs": [],
   "source": []
  },
  {
   "cell_type": "code",
   "execution_count": null,
   "metadata": {
    "collapsed": true
   },
   "outputs": [],
   "source": []
  },
  {
   "cell_type": "code",
   "execution_count": null,
   "metadata": {
    "collapsed": true
   },
   "outputs": [],
   "source": []
  },
  {
   "cell_type": "code",
   "execution_count": 4,
   "metadata": {
    "collapsed": true
   },
   "outputs": [],
   "source": [
    "hhh = pd.concat([train[['terminal_id', 'transaction_date', 'customer_id']], test[['terminal_id', 'transaction_date', 'customer_id']]])"
   ]
  },
  {
   "cell_type": "code",
   "execution_count": 5,
   "metadata": {
    "collapsed": true
   },
   "outputs": [],
   "source": [
    "uniq_term = hhh.terminal_id.unique()"
   ]
  },
  {
   "cell_type": "code",
   "execution_count": 6,
   "metadata": {
    "collapsed": true
   },
   "outputs": [],
   "source": [
    "hhh['transaction_date'] = hhh['transaction_date'].apply(lambda x: str(x).lower())\n",
    "hhh.transaction_date = pd.to_datetime(hhh.transaction_date)\n",
    "hhh['dow'] = hhh.transaction_date.dt.dayofweek\n",
    "hhh['month'] = hhh.transaction_date.dt.month\n",
    "hhh.transaction_date = hhh.transaction_date.dt.date\n",
    "hhh['hol'] = hhh.dow.apply(lambda x: int(x>4))\n"
   ]
  },
  {
   "cell_type": "code",
   "execution_count": 7,
   "metadata": {},
   "outputs": [
    {
     "data": {
      "text/html": [
       "<div>\n",
       "<style>\n",
       "    .dataframe thead tr:only-child th {\n",
       "        text-align: right;\n",
       "    }\n",
       "\n",
       "    .dataframe thead th {\n",
       "        text-align: left;\n",
       "    }\n",
       "\n",
       "    .dataframe tbody tr th {\n",
       "        vertical-align: top;\n",
       "    }\n",
       "</style>\n",
       "<table border=\"1\" class=\"dataframe\">\n",
       "  <thead>\n",
       "    <tr style=\"text-align: right;\">\n",
       "      <th></th>\n",
       "      <th>terminal_id</th>\n",
       "      <th>transaction_date</th>\n",
       "      <th>customer_id</th>\n",
       "      <th>dow</th>\n",
       "      <th>month</th>\n",
       "      <th>hol</th>\n",
       "    </tr>\n",
       "  </thead>\n",
       "  <tbody>\n",
       "    <tr>\n",
       "      <th>0</th>\n",
       "      <td>11606fde0c814ce78e0d726e39a0a5ee</td>\n",
       "      <td>2017-07-15</td>\n",
       "      <td>0dc0137d280a2a82d2dc89282450ff1b</td>\n",
       "      <td>5.0</td>\n",
       "      <td>7.0</td>\n",
       "      <td>1</td>\n",
       "    </tr>\n",
       "    <tr>\n",
       "      <th>1</th>\n",
       "      <td>e9647a5e1eacfb06713b6af755ccc595</td>\n",
       "      <td>2017-10-27</td>\n",
       "      <td>0dc0137d280a2a82d2dc89282450ff1b</td>\n",
       "      <td>4.0</td>\n",
       "      <td>10.0</td>\n",
       "      <td>0</td>\n",
       "    </tr>\n",
       "    <tr>\n",
       "      <th>2</th>\n",
       "      <td>df06c1fcd3718a514535ae822785f716</td>\n",
       "      <td>2017-10-03</td>\n",
       "      <td>0dc0137d280a2a82d2dc89282450ff1b</td>\n",
       "      <td>1.0</td>\n",
       "      <td>10.0</td>\n",
       "      <td>0</td>\n",
       "    </tr>\n",
       "  </tbody>\n",
       "</table>\n",
       "</div>"
      ],
      "text/plain": [
       "                        terminal_id transaction_date  \\\n",
       "0  11606fde0c814ce78e0d726e39a0a5ee       2017-07-15   \n",
       "1  e9647a5e1eacfb06713b6af755ccc595       2017-10-27   \n",
       "2  df06c1fcd3718a514535ae822785f716       2017-10-03   \n",
       "\n",
       "                        customer_id  dow  month  hol  \n",
       "0  0dc0137d280a2a82d2dc89282450ff1b  5.0    7.0    1  \n",
       "1  0dc0137d280a2a82d2dc89282450ff1b  4.0   10.0    0  \n",
       "2  0dc0137d280a2a82d2dc89282450ff1b  1.0   10.0    0  "
      ]
     },
     "execution_count": 7,
     "metadata": {},
     "output_type": "execute_result"
    }
   ],
   "source": [
    "hhh.head(3)"
   ]
  },
  {
   "cell_type": "code",
   "execution_count": 8,
   "metadata": {
    "collapsed": true
   },
   "outputs": [],
   "source": [
    "hol_per = hhh.groupby('terminal_id').hol.mean().to_dict()"
   ]
  },
  {
   "cell_type": "code",
   "execution_count": 9,
   "metadata": {
    "collapsed": true
   },
   "outputs": [],
   "source": [
    "hol_per_no_sum = hhh[(hhh.month != 6) & (hhh.month != 7) & (hhh.month != 8)].groupby('terminal_id').hol.mean().to_dict()"
   ]
  },
  {
   "cell_type": "code",
   "execution_count": null,
   "metadata": {
    "collapsed": true
   },
   "outputs": [],
   "source": [
    "num = hhh.groupby('terminal_id').hol.count().to_dict()\n",
    "num_hol = hhh.groupby('terminal_id').hol.sum().to_dict()"
   ]
  },
  {
   "cell_type": "code",
   "execution_count": null,
   "metadata": {
    "collapsed": true
   },
   "outputs": [],
   "source": [
    "uniq_cust = hhh.groupby('terminal_id').customer_id.nunique().to_dict()"
   ]
  },
  {
   "cell_type": "code",
   "execution_count": null,
   "metadata": {
    "collapsed": true
   },
   "outputs": [],
   "source": [
    "df2 = pd.DataFrame({'terminal_id':uniq_term})"
   ]
  },
  {
   "cell_type": "code",
   "execution_count": 124,
   "metadata": {
    "collapsed": true
   },
   "outputs": [],
   "source": [
    "# df2['hol_per'] = df2.terminal_id.map(hol_per)\n",
    "# df2['hol_per_no_sum'] = df2.terminal_id.map(hol_per_no_sum)\n",
    "# df2['num'] = df2.terminal_id.map(num)\n",
    "# df2['num_hol'] = df2.terminal_id.map(num_hol)\n",
    "# df2['uniq_cust'] = df2.terminal_id.map(uniq_cust)"
   ]
  },
  {
   "cell_type": "code",
   "execution_count": 126,
   "metadata": {
    "collapsed": true
   },
   "outputs": [],
   "source": [
    "# df2.to_csv('terminal_holidays.csv', index=False)"
   ]
  },
  {
   "cell_type": "code",
   "execution_count": null,
   "metadata": {
    "collapsed": true
   },
   "outputs": [],
   "source": []
  },
  {
   "cell_type": "code",
   "execution_count": null,
   "metadata": {
    "collapsed": true
   },
   "outputs": [],
   "source": []
  },
  {
   "cell_type": "code",
   "execution_count": null,
   "metadata": {
    "collapsed": true
   },
   "outputs": [],
   "source": []
  },
  {
   "cell_type": "code",
   "execution_count": 11,
   "metadata": {
    "collapsed": true
   },
   "outputs": [],
   "source": [
    "hol_per = hhh.groupby('terminal_id').hol.mean().to_dict()\n",
    "num = hhh.groupby('terminal_id').hol.count().to_dict()\n",
    "num_hol = hhh.groupby('terminal_id').hol.sum().to_dict()\n",
    "uniq_cust = hhh.groupby('terminal_id').customer_id.nunique().to_dict()"
   ]
  },
  {
   "cell_type": "code",
   "execution_count": 12,
   "metadata": {
    "collapsed": true
   },
   "outputs": [],
   "source": [
    "hol_per_win = hhh[(hhh.month ==12) | (hhh.month ==1) | (hhh.month ==2)].groupby('terminal_id').hol.mean().to_dict()\n",
    "num_win = hhh[(hhh.month ==12) | (hhh.month ==1) | (hhh.month ==2)].groupby('terminal_id').hol.count().to_dict()\n",
    "num_hol_win = hhh[(hhh.month ==12) | (hhh.month ==1) | (hhh.month ==2)].groupby('terminal_id').hol.sum().to_dict()\n",
    "uniq_cust_win = hhh[(hhh.month ==12) | (hhh.month ==1) | (hhh.month ==2)].groupby('terminal_id').customer_id.nunique().to_dict()"
   ]
  },
  {
   "cell_type": "code",
   "execution_count": 13,
   "metadata": {
    "collapsed": true
   },
   "outputs": [],
   "source": [
    "hol_per_spr = hhh[(hhh.month ==3) | (hhh.month ==4) | (hhh.month ==5)].groupby('terminal_id').hol.mean().to_dict()\n",
    "num_spr = hhh[(hhh.month ==3) | (hhh.month ==4) | (hhh.month ==5)].groupby('terminal_id').hol.count().to_dict()\n",
    "num_hol_spr = hhh[(hhh.month ==3) | (hhh.month ==4) | (hhh.month ==5)].groupby('terminal_id').hol.sum().to_dict()\n",
    "uniq_cust_spr = hhh[(hhh.month ==3) | (hhh.month ==4) | (hhh.month ==5)].groupby('terminal_id').customer_id.nunique().to_dict()"
   ]
  },
  {
   "cell_type": "code",
   "execution_count": 14,
   "metadata": {
    "collapsed": true
   },
   "outputs": [],
   "source": [
    "hol_per_sum = hhh[(hhh.month ==6) | (hhh.month ==7) | (hhh.month ==8)].groupby('terminal_id').hol.mean().to_dict()\n",
    "num_sum = hhh[(hhh.month ==6) | (hhh.month ==7) | (hhh.month ==8)].groupby('terminal_id').hol.count().to_dict()\n",
    "num_hol_sum = hhh[(hhh.month ==6) | (hhh.month ==7) | (hhh.month ==8)].groupby('terminal_id').hol.sum().to_dict()\n",
    "uniq_cust_sum = hhh[(hhh.month ==6) | (hhh.month ==7) | (hhh.month ==8)].groupby('terminal_id').customer_id.nunique().to_dict()"
   ]
  },
  {
   "cell_type": "code",
   "execution_count": 16,
   "metadata": {
    "collapsed": true
   },
   "outputs": [],
   "source": [
    "hol_per_aut = hhh[(hhh.month == 9) | (hhh.month ==10) | (hhh.month ==11)].groupby('terminal_id').hol.mean().to_dict()\n",
    "num_aut = hhh[(hhh.month == 9) | (hhh.month ==10) | (hhh.month ==11)].groupby('terminal_id').hol.count().to_dict()\n",
    "num_hol_aut = hhh[(hhh.month == 9) | (hhh.month ==10) | (hhh.month ==11)].groupby('terminal_id').hol.sum().to_dict()\n",
    "uniq_cust_aut = hhh[(hhh.month == 9) | (hhh.month ==10) | (hhh.month ==11)].groupby('terminal_id').customer_id.nunique().to_dict()"
   ]
  },
  {
   "cell_type": "code",
   "execution_count": 17,
   "metadata": {
    "collapsed": true
   },
   "outputs": [],
   "source": [
    "df2 = pd.DataFrame({'terminal_id':uniq_term})"
   ]
  },
  {
   "cell_type": "code",
   "execution_count": 18,
   "metadata": {
    "collapsed": true
   },
   "outputs": [],
   "source": [
    "df2['hol_per'] = df2.terminal_id.map(hol_per)\n",
    "df2['num'] = df2.terminal_id.map(num)\n",
    "df2['num_hol'] = df2.terminal_id.map(num_hol)\n",
    "df2['uniq_cust'] = df2.terminal_id.map(uniq_cust)\n",
    "df2['hol_per_win'] = df2.terminal_id.map(hol_per_win)\n",
    "df2['num_win'] = df2.terminal_id.map(num_win)\n",
    "df2['num_hol_win'] = df2.terminal_id.map(num_hol_win)\n",
    "df2['uniq_cust_win'] = df2.terminal_id.map(uniq_cust_win)\n",
    "df2['hol_per_spr'] = df2.terminal_id.map(hol_per_spr)\n",
    "df2['num_spr'] = df2.terminal_id.map(num_spr)\n",
    "df2['num_hol_spr'] = df2.terminal_id.map(num_hol_spr)\n",
    "df2['uniq_cust_spr'] = df2.terminal_id.map(uniq_cust_spr)\n",
    "df2['hol_per_sum'] = df2.terminal_id.map(hol_per_sum)\n",
    "df2['num_sum'] = df2.terminal_id.map(num_sum)\n",
    "df2['num_hol_sum'] = df2.terminal_id.map(num_hol_sum)\n",
    "df2['uniq_cust_sum'] = df2.terminal_id.map(uniq_cust_sum)\n",
    "df2['hol_per_aut'] = df2.terminal_id.map(hol_per_aut)\n",
    "df2['num_aut'] = df2.terminal_id.map(num_aut)\n",
    "df2['num_hol_aut'] = df2.terminal_id.map(num_hol_aut)\n",
    "df2['uniq_cust_aut'] = df2.terminal_id.map(uniq_cust_aut)"
   ]
  },
  {
   "cell_type": "code",
   "execution_count": 21,
   "metadata": {},
   "outputs": [
    {
     "name": "stdout",
     "output_type": "stream",
     "text": [
      "(290283, 21)\n"
     ]
    },
    {
     "data": {
      "text/html": [
       "<div>\n",
       "<style>\n",
       "    .dataframe thead tr:only-child th {\n",
       "        text-align: right;\n",
       "    }\n",
       "\n",
       "    .dataframe thead th {\n",
       "        text-align: left;\n",
       "    }\n",
       "\n",
       "    .dataframe tbody tr th {\n",
       "        vertical-align: top;\n",
       "    }\n",
       "</style>\n",
       "<table border=\"1\" class=\"dataframe\">\n",
       "  <thead>\n",
       "    <tr style=\"text-align: right;\">\n",
       "      <th></th>\n",
       "      <th>terminal_id</th>\n",
       "      <th>hol_per</th>\n",
       "      <th>num</th>\n",
       "      <th>num_hol</th>\n",
       "      <th>uniq_cust</th>\n",
       "      <th>hol_per_win</th>\n",
       "      <th>num_win</th>\n",
       "      <th>num_hol_win</th>\n",
       "      <th>uniq_cust_win</th>\n",
       "      <th>hol_per_spr</th>\n",
       "      <th>num_spr</th>\n",
       "      <th>num_hol_spr</th>\n",
       "      <th>uniq_cust_spr</th>\n",
       "      <th>hol_per_sum</th>\n",
       "      <th>num_sum</th>\n",
       "      <th>num_hol_sum</th>\n",
       "      <th>uniq_cust_sum</th>\n",
       "      <th>hol_per_aut</th>\n",
       "      <th>num_aut</th>\n",
       "      <th>num_hol_aut</th>\n",
       "      <th>uniq_cust_aut</th>\n",
       "    </tr>\n",
       "  </thead>\n",
       "  <tbody>\n",
       "    <tr>\n",
       "      <th>0</th>\n",
       "      <td>11606fde0c814ce78e0d726e39a0a5ee</td>\n",
       "      <td>0.500000</td>\n",
       "      <td>4.0</td>\n",
       "      <td>2.0</td>\n",
       "      <td>4.0</td>\n",
       "      <td>NaN</td>\n",
       "      <td>NaN</td>\n",
       "      <td>NaN</td>\n",
       "      <td>NaN</td>\n",
       "      <td>0.500000</td>\n",
       "      <td>2.0</td>\n",
       "      <td>1.0</td>\n",
       "      <td>2.0</td>\n",
       "      <td>1.00</td>\n",
       "      <td>1.0</td>\n",
       "      <td>1.0</td>\n",
       "      <td>1.0</td>\n",
       "      <td>0.000000</td>\n",
       "      <td>1.0</td>\n",
       "      <td>0.0</td>\n",
       "      <td>1.0</td>\n",
       "    </tr>\n",
       "    <tr>\n",
       "      <th>1</th>\n",
       "      <td>e9647a5e1eacfb06713b6af755ccc595</td>\n",
       "      <td>0.476923</td>\n",
       "      <td>65.0</td>\n",
       "      <td>31.0</td>\n",
       "      <td>50.0</td>\n",
       "      <td>NaN</td>\n",
       "      <td>NaN</td>\n",
       "      <td>NaN</td>\n",
       "      <td>NaN</td>\n",
       "      <td>0.523810</td>\n",
       "      <td>21.0</td>\n",
       "      <td>11.0</td>\n",
       "      <td>17.0</td>\n",
       "      <td>0.32</td>\n",
       "      <td>25.0</td>\n",
       "      <td>8.0</td>\n",
       "      <td>21.0</td>\n",
       "      <td>0.631579</td>\n",
       "      <td>19.0</td>\n",
       "      <td>12.0</td>\n",
       "      <td>19.0</td>\n",
       "    </tr>\n",
       "    <tr>\n",
       "      <th>2</th>\n",
       "      <td>df06c1fcd3718a514535ae822785f716</td>\n",
       "      <td>0.000000</td>\n",
       "      <td>3.0</td>\n",
       "      <td>0.0</td>\n",
       "      <td>2.0</td>\n",
       "      <td>NaN</td>\n",
       "      <td>NaN</td>\n",
       "      <td>NaN</td>\n",
       "      <td>NaN</td>\n",
       "      <td>0.000000</td>\n",
       "      <td>1.0</td>\n",
       "      <td>0.0</td>\n",
       "      <td>1.0</td>\n",
       "      <td>NaN</td>\n",
       "      <td>NaN</td>\n",
       "      <td>NaN</td>\n",
       "      <td>NaN</td>\n",
       "      <td>0.000000</td>\n",
       "      <td>2.0</td>\n",
       "      <td>0.0</td>\n",
       "      <td>2.0</td>\n",
       "    </tr>\n",
       "    <tr>\n",
       "      <th>3</th>\n",
       "      <td>6c5e5793ebc984fb72875feffff62854</td>\n",
       "      <td>0.517241</td>\n",
       "      <td>58.0</td>\n",
       "      <td>30.0</td>\n",
       "      <td>43.0</td>\n",
       "      <td>NaN</td>\n",
       "      <td>NaN</td>\n",
       "      <td>NaN</td>\n",
       "      <td>NaN</td>\n",
       "      <td>0.368421</td>\n",
       "      <td>19.0</td>\n",
       "      <td>7.0</td>\n",
       "      <td>14.0</td>\n",
       "      <td>0.68</td>\n",
       "      <td>25.0</td>\n",
       "      <td>17.0</td>\n",
       "      <td>23.0</td>\n",
       "      <td>0.428571</td>\n",
       "      <td>14.0</td>\n",
       "      <td>6.0</td>\n",
       "      <td>12.0</td>\n",
       "    </tr>\n",
       "    <tr>\n",
       "      <th>4</th>\n",
       "      <td>0576445d74e374c92c0902e612fca356</td>\n",
       "      <td>0.250000</td>\n",
       "      <td>44.0</td>\n",
       "      <td>11.0</td>\n",
       "      <td>37.0</td>\n",
       "      <td>NaN</td>\n",
       "      <td>NaN</td>\n",
       "      <td>NaN</td>\n",
       "      <td>NaN</td>\n",
       "      <td>0.428571</td>\n",
       "      <td>7.0</td>\n",
       "      <td>3.0</td>\n",
       "      <td>5.0</td>\n",
       "      <td>0.25</td>\n",
       "      <td>24.0</td>\n",
       "      <td>6.0</td>\n",
       "      <td>22.0</td>\n",
       "      <td>0.153846</td>\n",
       "      <td>13.0</td>\n",
       "      <td>2.0</td>\n",
       "      <td>12.0</td>\n",
       "    </tr>\n",
       "  </tbody>\n",
       "</table>\n",
       "</div>"
      ],
      "text/plain": [
       "                        terminal_id   hol_per   num  num_hol  uniq_cust  \\\n",
       "0  11606fde0c814ce78e0d726e39a0a5ee  0.500000   4.0      2.0        4.0   \n",
       "1  e9647a5e1eacfb06713b6af755ccc595  0.476923  65.0     31.0       50.0   \n",
       "2  df06c1fcd3718a514535ae822785f716  0.000000   3.0      0.0        2.0   \n",
       "3  6c5e5793ebc984fb72875feffff62854  0.517241  58.0     30.0       43.0   \n",
       "4  0576445d74e374c92c0902e612fca356  0.250000  44.0     11.0       37.0   \n",
       "\n",
       "   hol_per_win  num_win  num_hol_win  uniq_cust_win  hol_per_spr  num_spr  \\\n",
       "0          NaN      NaN          NaN            NaN     0.500000      2.0   \n",
       "1          NaN      NaN          NaN            NaN     0.523810     21.0   \n",
       "2          NaN      NaN          NaN            NaN     0.000000      1.0   \n",
       "3          NaN      NaN          NaN            NaN     0.368421     19.0   \n",
       "4          NaN      NaN          NaN            NaN     0.428571      7.0   \n",
       "\n",
       "   num_hol_spr  uniq_cust_spr  hol_per_sum  num_sum  num_hol_sum  \\\n",
       "0          1.0            2.0         1.00      1.0          1.0   \n",
       "1         11.0           17.0         0.32     25.0          8.0   \n",
       "2          0.0            1.0          NaN      NaN          NaN   \n",
       "3          7.0           14.0         0.68     25.0         17.0   \n",
       "4          3.0            5.0         0.25     24.0          6.0   \n",
       "\n",
       "   uniq_cust_sum  hol_per_aut  num_aut  num_hol_aut  uniq_cust_aut  \n",
       "0            1.0     0.000000      1.0          0.0            1.0  \n",
       "1           21.0     0.631579     19.0         12.0           19.0  \n",
       "2            NaN     0.000000      2.0          0.0            2.0  \n",
       "3           23.0     0.428571     14.0          6.0           12.0  \n",
       "4           22.0     0.153846     13.0          2.0           12.0  "
      ]
     },
     "execution_count": 21,
     "metadata": {},
     "output_type": "execute_result"
    }
   ],
   "source": [
    "print(df2.shape)\n",
    "df2.head()"
   ]
  },
  {
   "cell_type": "code",
   "execution_count": 22,
   "metadata": {
    "collapsed": true
   },
   "outputs": [],
   "source": [
    "df2.to_csv('terminal_holidays_2.csv', index=False)"
   ]
  },
  {
   "cell_type": "code",
   "execution_count": null,
   "metadata": {
    "collapsed": true
   },
   "outputs": [],
   "source": []
  },
  {
   "cell_type": "code",
   "execution_count": null,
   "metadata": {
    "collapsed": true
   },
   "outputs": [],
   "source": []
  },
  {
   "cell_type": "code",
   "execution_count": null,
   "metadata": {
    "collapsed": true
   },
   "outputs": [],
   "source": []
  },
  {
   "cell_type": "code",
   "execution_count": null,
   "metadata": {
    "collapsed": true
   },
   "outputs": [],
   "source": []
  },
  {
   "cell_type": "code",
   "execution_count": null,
   "metadata": {
    "collapsed": true
   },
   "outputs": [],
   "source": []
  },
  {
   "cell_type": "code",
   "execution_count": null,
   "metadata": {
    "collapsed": true
   },
   "outputs": [],
   "source": []
  },
  {
   "cell_type": "code",
   "execution_count": null,
   "metadata": {
    "collapsed": true
   },
   "outputs": [],
   "source": []
  },
  {
   "cell_type": "code",
   "execution_count": null,
   "metadata": {
    "collapsed": true
   },
   "outputs": [],
   "source": []
  },
  {
   "cell_type": "code",
   "execution_count": null,
   "metadata": {
    "collapsed": true
   },
   "outputs": [],
   "source": []
  },
  {
   "cell_type": "code",
   "execution_count": null,
   "metadata": {
    "collapsed": true
   },
   "outputs": [],
   "source": []
  }
 ],
 "metadata": {
  "kernelspec": {
   "display_name": "Python 3",
   "language": "python",
   "name": "python3"
  },
  "language_info": {
   "codemirror_mode": {
    "name": "ipython",
    "version": 3
   },
   "file_extension": ".py",
   "mimetype": "text/x-python",
   "name": "python",
   "nbconvert_exporter": "python",
   "pygments_lexer": "ipython3",
   "version": "3.6.3"
  }
 },
 "nbformat": 4,
 "nbformat_minor": 2
}
